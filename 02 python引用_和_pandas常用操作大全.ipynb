{
 "cells": [
  {
   "cell_type": "code",
   "execution_count": 1,
   "metadata": {
    "collapsed": true
   },
   "outputs": [],
   "source": [
    "import pymysql\n",
    "import pandas as pd\n",
    "import numpy as np\n",
    "import time\n",
    "import datetime as dt\n",
    "#数据库\n",
    "from sqlalchemy import create_engine\n",
    "#可视化\n",
    "from matplotlib import pyplot as plt\n",
    "#jupyter notebook对Retina屏的视觉优化\n",
    "%config InlineBackend.figure_format='retina'\n",
    "# matplotlib解决中文乱码：\n",
    "# 设置matplotlib库字体的非衬线字体为黑体 for MAC\n",
    "plt.rcParams[\"font.sans-serif\"]=[\"Heiti TC\"]\n",
    "# 设置matplotlib库字体族为非衬线字体 for Windoes\n",
    "plt.rcParams[\"font.family\"]=\"SimHei\"\n",
    "# matplotlib解决负号无法显示：\n",
    "plt.rcParams['axes.unicode_minus'] =False\n",
    "import seaborn as sns\n",
    "#notebook渲染图片\n",
    "%matplotlib inline\n",
    "import pyecharts\n",
    "#忽略版本警报信息\n",
    "import warnings\n",
    "warnings.filterwarnings('ignore')\n"
   ]
  }
 ],
 "metadata": {
  "kernelspec": {
   "name": "pycharm-cef857b",
   "language": "python",
   "display_name": "PyCharm (BJLJ)"
  },
  "language_info": {
   "codemirror_mode": {
    "name": "ipython",
    "version": 2
   },
   "file_extension": ".py",
   "mimetype": "text/x-python",
   "name": "python",
   "nbconvert_exporter": "python",
   "pygments_lexer": "ipython2",
   "version": "2.7.6"
  }
 },
 "nbformat": 4,
 "nbformat_minor": 0
}