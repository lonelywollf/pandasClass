{
 "cells": [
  {
   "cell_type": "code",
   "execution_count": 1,
   "metadata": {
    "collapsed": true
   },
   "outputs": [],
   "source": [
    "import pymysql\n",
    "import pandas as pd\n",
    "import numpy as np\n",
    "import time\n",
    "import datetime as dt\n",
    "#pandas显示设置\n",
    "pd.set_option('display.max_columns', None)\n",
    "pd.set_option('display.max_rows', None)\n",
    "pd.set_option('display.width', 1000)\n",
    "#Pandas 科学计数法转换为正常显示，且小数点后显示3位\n",
    "pd.set_option('display.float_format', lambda x: '%.3f' % x)\n",
    "#Numpy 取消科学计数法显示，改为正常显示\n",
    "np.set_printoptions(suppress=True, threshold=np.nan)\n",
    "    #suppress=True 取消科学记数法\n",
    "    #threshold=np.nan 完整输出（没有省略号）\n",
    "#数据库\n",
    "from sqlalchemy import create_engine\n",
    "#可视化\n",
    "from matplotlib import pyplot as plt\n",
    "#jupyter notebook对Retina屏的视觉优化\n",
    "%config InlineBackend.figure_format='retina'\n",
    "# matplotlib解决中文乱码：\n",
    "# 设置matplotlib库字体的非衬线字体为黑体 for MAC\n",
    "plt.rcParams[\"font.sans-serif\"]=[\"Heiti TC\"]\n",
    "# 设置matplotlib库字体族为非衬线字体 for Windoes\n",
    "plt.rcParams[\"font.family\"]=\"SimHei\"\n",
    "# matplotlib解决负号无法显示：\n",
    "plt.rcParams['axes.unicode_minus'] =False\n",
    "import seaborn as sns\n",
    "#notebook渲染图片\n",
    "%matplotlib inline\n",
    "import pyecharts\n",
    "#忽略版本警报信息\n",
    "import warnings\n",
    "warnings.filterwarnings('ignore')\n"
   ]
  }
 ],
 "metadata": {
  "kernelspec": {
   "name": "pycharm-cef857b",
   "language": "python",
   "display_name": "PyCharm (BJLJ)"
  },
  "language_info": {
   "codemirror_mode": {
    "name": "ipython",
    "version": 2
   },
   "file_extension": ".py",
   "mimetype": "text/x-python",
   "name": "python",
   "nbconvert_exporter": "python",
   "pygments_lexer": "ipython2",
   "version": "2.7.6"
  }
 },
 "nbformat": 4,
 "nbformat_minor": 0
}