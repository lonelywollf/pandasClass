{
 "cells": [
  {
   "cell_type": "markdown",
   "metadata": {
    "collapsed": true,
    "pycharm": {
     "name": "#%% md\n"
    }
   },
   "source": [
    "#### Pandas基础数据类型\n",
    "***\n",
    "###### Markdown基本语法:\n",
    "~~删除线~~<br>\n",
    "**加粗1**<br> __加粗2__<br>\n",
    "*倾斜1*<br> _倾斜2_<br>\n",
    "***加粗倾斜***\n",
    "\n",
    "> 无可奈何花落去，似曾相识燕归来\n",
    "\n",
    "> 后面两句忘了\n",
    "\n",
    "1. asfa\n",
    "2. 顶起\n",
    "\n",
    "\n",
    "* 列表一\n",
    "- 列表二\n",
    "+ 列表三\n",
    "\n",
    "###### Serial:\n",
    "###### DataFrame\n"
   ]
  }
 ],
 "metadata": {
  "kernelspec": {
   "display_name": "Python 3",
   "language": "python",
   "name": "python3"
  },
  "language_info": {
   "codemirror_mode": {
    "name": "ipython",
    "version": 2
   },
   "file_extension": ".py",
   "mimetype": "text/x-python",
   "name": "python",
   "nbconvert_exporter": "python",
   "pygments_lexer": "ipython2",
   "version": "2.7.6"
  }
 },
 "nbformat": 4,
 "nbformat_minor": 0
}