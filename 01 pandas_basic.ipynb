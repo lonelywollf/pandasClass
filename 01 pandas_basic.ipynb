{
 "cells": [
  {
   "cell_type": "code",
   "execution_count": 11,
   "metadata": {
    "collapsed": true,
    "pycharm": {
     "name": "#%%\n"
    }
   },
   "outputs": [],
   "source": [
    "import pandas as pd\n",
    "\n",
    "pd.set_option('display.width', 500)\n",
    "pd.set_option('display.max_columns', None)\n",
    "\n",
    "df_source = pd.read_csv('五粮液.csv')"
   ]
  },
  {
   "cell_type": "code",
   "execution_count": 12,
   "outputs": [
    {
     "data": {
      "text/plain": "       ts_code  trade_date    open    high     low   close  pre_close  change  pct_chg        vol       amount\n0    000858.SZ    20200821  220.00  220.98  216.44  218.40     216.44    1.96   0.9056  157318.61  3438178.399\n1    000858.SZ    20200820  220.00  220.92  216.00  216.44     222.20   -5.76  -2.5923  184906.63  4022580.052\n2    000858.SZ    20200819  220.47  225.96  217.27  222.20     220.57    1.63   0.7390  238472.68  5300628.768\n3    000858.SZ    20200818  219.99  223.00  218.12  220.57     219.99    0.58   0.2636  190382.49  4208955.657\n4    000858.SZ    20200817  214.50  222.00  214.50  219.99     212.90    7.09   3.3302  315155.99  6913069.145\n..         ...         ...     ...     ...     ...     ...        ...     ...      ...        ...          ...\n150  000858.SZ    20200108  128.99  129.76  128.05  128.89     129.37   -0.48  -0.3710  161802.18  2083242.871\n151  000858.SZ    20200107  129.50  131.07  129.00  129.37     129.20    0.17   0.1316  223277.93  2901574.233\n152  000858.SZ    20200106  130.00  130.25  128.52  129.20     130.55   -1.35  -1.0341  259369.79  3353682.073\n153  000858.SZ    20200103  131.60  132.07  129.61  130.55     132.08   -1.53  -1.1584  204692.48  2672531.470\n154  000858.SZ    20200102  132.00  133.50  129.59  132.08     133.01   -0.93  -0.6992  306674.39  4038536.854\n\n[155 rows x 11 columns]",
      "text/html": "<div>\n<style scoped>\n    .dataframe tbody tr th:only-of-type {\n        vertical-align: middle;\n    }\n\n    .dataframe tbody tr th {\n        vertical-align: top;\n    }\n\n    .dataframe thead th {\n        text-align: right;\n    }\n</style>\n<table border=\"1\" class=\"dataframe\">\n  <thead>\n    <tr style=\"text-align: right;\">\n      <th></th>\n      <th>ts_code</th>\n      <th>trade_date</th>\n      <th>open</th>\n      <th>high</th>\n      <th>low</th>\n      <th>close</th>\n      <th>pre_close</th>\n      <th>change</th>\n      <th>pct_chg</th>\n      <th>vol</th>\n      <th>amount</th>\n    </tr>\n  </thead>\n  <tbody>\n    <tr>\n      <th>0</th>\n      <td>000858.SZ</td>\n      <td>20200821</td>\n      <td>220.00</td>\n      <td>220.98</td>\n      <td>216.44</td>\n      <td>218.40</td>\n      <td>216.44</td>\n      <td>1.96</td>\n      <td>0.9056</td>\n      <td>157318.61</td>\n      <td>3438178.399</td>\n    </tr>\n    <tr>\n      <th>1</th>\n      <td>000858.SZ</td>\n      <td>20200820</td>\n      <td>220.00</td>\n      <td>220.92</td>\n      <td>216.00</td>\n      <td>216.44</td>\n      <td>222.20</td>\n      <td>-5.76</td>\n      <td>-2.5923</td>\n      <td>184906.63</td>\n      <td>4022580.052</td>\n    </tr>\n    <tr>\n      <th>2</th>\n      <td>000858.SZ</td>\n      <td>20200819</td>\n      <td>220.47</td>\n      <td>225.96</td>\n      <td>217.27</td>\n      <td>222.20</td>\n      <td>220.57</td>\n      <td>1.63</td>\n      <td>0.7390</td>\n      <td>238472.68</td>\n      <td>5300628.768</td>\n    </tr>\n    <tr>\n      <th>3</th>\n      <td>000858.SZ</td>\n      <td>20200818</td>\n      <td>219.99</td>\n      <td>223.00</td>\n      <td>218.12</td>\n      <td>220.57</td>\n      <td>219.99</td>\n      <td>0.58</td>\n      <td>0.2636</td>\n      <td>190382.49</td>\n      <td>4208955.657</td>\n    </tr>\n    <tr>\n      <th>4</th>\n      <td>000858.SZ</td>\n      <td>20200817</td>\n      <td>214.50</td>\n      <td>222.00</td>\n      <td>214.50</td>\n      <td>219.99</td>\n      <td>212.90</td>\n      <td>7.09</td>\n      <td>3.3302</td>\n      <td>315155.99</td>\n      <td>6913069.145</td>\n    </tr>\n    <tr>\n      <th>...</th>\n      <td>...</td>\n      <td>...</td>\n      <td>...</td>\n      <td>...</td>\n      <td>...</td>\n      <td>...</td>\n      <td>...</td>\n      <td>...</td>\n      <td>...</td>\n      <td>...</td>\n      <td>...</td>\n    </tr>\n    <tr>\n      <th>150</th>\n      <td>000858.SZ</td>\n      <td>20200108</td>\n      <td>128.99</td>\n      <td>129.76</td>\n      <td>128.05</td>\n      <td>128.89</td>\n      <td>129.37</td>\n      <td>-0.48</td>\n      <td>-0.3710</td>\n      <td>161802.18</td>\n      <td>2083242.871</td>\n    </tr>\n    <tr>\n      <th>151</th>\n      <td>000858.SZ</td>\n      <td>20200107</td>\n      <td>129.50</td>\n      <td>131.07</td>\n      <td>129.00</td>\n      <td>129.37</td>\n      <td>129.20</td>\n      <td>0.17</td>\n      <td>0.1316</td>\n      <td>223277.93</td>\n      <td>2901574.233</td>\n    </tr>\n    <tr>\n      <th>152</th>\n      <td>000858.SZ</td>\n      <td>20200106</td>\n      <td>130.00</td>\n      <td>130.25</td>\n      <td>128.52</td>\n      <td>129.20</td>\n      <td>130.55</td>\n      <td>-1.35</td>\n      <td>-1.0341</td>\n      <td>259369.79</td>\n      <td>3353682.073</td>\n    </tr>\n    <tr>\n      <th>153</th>\n      <td>000858.SZ</td>\n      <td>20200103</td>\n      <td>131.60</td>\n      <td>132.07</td>\n      <td>129.61</td>\n      <td>130.55</td>\n      <td>132.08</td>\n      <td>-1.53</td>\n      <td>-1.1584</td>\n      <td>204692.48</td>\n      <td>2672531.470</td>\n    </tr>\n    <tr>\n      <th>154</th>\n      <td>000858.SZ</td>\n      <td>20200102</td>\n      <td>132.00</td>\n      <td>133.50</td>\n      <td>129.59</td>\n      <td>132.08</td>\n      <td>133.01</td>\n      <td>-0.93</td>\n      <td>-0.6992</td>\n      <td>306674.39</td>\n      <td>4038536.854</td>\n    </tr>\n  </tbody>\n</table>\n<p>155 rows × 11 columns</p>\n</div>"
     },
     "execution_count": 12,
     "metadata": {},
     "output_type": "execute_result"
    }
   ],
   "source": [
    "df_source"
   ],
   "metadata": {
    "collapsed": false,
    "pycharm": {
     "name": "#%%\n"
    }
   }
  },
  {
   "cell_type": "markdown",
   "source": [
    "##### DataFrame行操作"
   ],
   "metadata": {
    "collapsed": false,
    "pycharm": {
     "name": "#%% md\n"
    }
   }
  },
  {
   "cell_type": "code",
   "execution_count": 54,
   "outputs": [
    {
     "data": {
      "text/plain": "      ts_code  trade_date    open    high     low   close  pre_close  change  pct_chg        vol       amount\n0   000858.SZ    20200821  220.00  220.98  216.44  218.40     216.44    1.96   0.9056  157318.61  3438178.399\n1   000858.SZ    20200820  220.00  220.92  216.00  216.44     222.20   -5.76  -2.5923  184906.63  4022580.052\n2   000858.SZ    20200819  220.47  225.96  217.27  222.20     220.57    1.63   0.7390  238472.68  5300628.768\n3   000858.SZ    20200818  219.99  223.00  218.12  220.57     219.99    0.58   0.2636  190382.49  4208955.657\n4   000858.SZ    20200817  214.50  222.00  214.50  219.99     212.90    7.09   3.3302  315155.99  6913069.145\n..        ...         ...     ...     ...     ...     ...        ...     ...      ...        ...          ...\n57  000858.SZ    20200601  150.06  160.18  150.06  158.59     148.20   10.39   7.0108  357843.58  5624344.618\n63  000858.SZ    20200522  150.76  150.78  143.65  144.25     151.68   -7.43  -4.8985  383526.39  5597327.855\n64  000858.SZ    20200521  151.86  153.53  151.03  151.68     150.85    0.83   0.5502  170921.50  2602103.042\n65  000858.SZ    20200520  152.50  152.98  150.51  150.85     151.42   -0.57  -0.3764  170412.14  2580358.165\n66  000858.SZ    20200519  153.33  153.49  150.37  151.42     151.19    0.23   0.1521  176505.56  2669709.609\n\n[62 rows x 11 columns]",
      "text/html": "<div>\n<style scoped>\n    .dataframe tbody tr th:only-of-type {\n        vertical-align: middle;\n    }\n\n    .dataframe tbody tr th {\n        vertical-align: top;\n    }\n\n    .dataframe thead th {\n        text-align: right;\n    }\n</style>\n<table border=\"1\" class=\"dataframe\">\n  <thead>\n    <tr style=\"text-align: right;\">\n      <th></th>\n      <th>ts_code</th>\n      <th>trade_date</th>\n      <th>open</th>\n      <th>high</th>\n      <th>low</th>\n      <th>close</th>\n      <th>pre_close</th>\n      <th>change</th>\n      <th>pct_chg</th>\n      <th>vol</th>\n      <th>amount</th>\n    </tr>\n  </thead>\n  <tbody>\n    <tr>\n      <th>0</th>\n      <td>000858.SZ</td>\n      <td>20200821</td>\n      <td>220.00</td>\n      <td>220.98</td>\n      <td>216.44</td>\n      <td>218.40</td>\n      <td>216.44</td>\n      <td>1.96</td>\n      <td>0.9056</td>\n      <td>157318.61</td>\n      <td>3438178.399</td>\n    </tr>\n    <tr>\n      <th>1</th>\n      <td>000858.SZ</td>\n      <td>20200820</td>\n      <td>220.00</td>\n      <td>220.92</td>\n      <td>216.00</td>\n      <td>216.44</td>\n      <td>222.20</td>\n      <td>-5.76</td>\n      <td>-2.5923</td>\n      <td>184906.63</td>\n      <td>4022580.052</td>\n    </tr>\n    <tr>\n      <th>2</th>\n      <td>000858.SZ</td>\n      <td>20200819</td>\n      <td>220.47</td>\n      <td>225.96</td>\n      <td>217.27</td>\n      <td>222.20</td>\n      <td>220.57</td>\n      <td>1.63</td>\n      <td>0.7390</td>\n      <td>238472.68</td>\n      <td>5300628.768</td>\n    </tr>\n    <tr>\n      <th>3</th>\n      <td>000858.SZ</td>\n      <td>20200818</td>\n      <td>219.99</td>\n      <td>223.00</td>\n      <td>218.12</td>\n      <td>220.57</td>\n      <td>219.99</td>\n      <td>0.58</td>\n      <td>0.2636</td>\n      <td>190382.49</td>\n      <td>4208955.657</td>\n    </tr>\n    <tr>\n      <th>4</th>\n      <td>000858.SZ</td>\n      <td>20200817</td>\n      <td>214.50</td>\n      <td>222.00</td>\n      <td>214.50</td>\n      <td>219.99</td>\n      <td>212.90</td>\n      <td>7.09</td>\n      <td>3.3302</td>\n      <td>315155.99</td>\n      <td>6913069.145</td>\n    </tr>\n    <tr>\n      <th>...</th>\n      <td>...</td>\n      <td>...</td>\n      <td>...</td>\n      <td>...</td>\n      <td>...</td>\n      <td>...</td>\n      <td>...</td>\n      <td>...</td>\n      <td>...</td>\n      <td>...</td>\n      <td>...</td>\n    </tr>\n    <tr>\n      <th>57</th>\n      <td>000858.SZ</td>\n      <td>20200601</td>\n      <td>150.06</td>\n      <td>160.18</td>\n      <td>150.06</td>\n      <td>158.59</td>\n      <td>148.20</td>\n      <td>10.39</td>\n      <td>7.0108</td>\n      <td>357843.58</td>\n      <td>5624344.618</td>\n    </tr>\n    <tr>\n      <th>63</th>\n      <td>000858.SZ</td>\n      <td>20200522</td>\n      <td>150.76</td>\n      <td>150.78</td>\n      <td>143.65</td>\n      <td>144.25</td>\n      <td>151.68</td>\n      <td>-7.43</td>\n      <td>-4.8985</td>\n      <td>383526.39</td>\n      <td>5597327.855</td>\n    </tr>\n    <tr>\n      <th>64</th>\n      <td>000858.SZ</td>\n      <td>20200521</td>\n      <td>151.86</td>\n      <td>153.53</td>\n      <td>151.03</td>\n      <td>151.68</td>\n      <td>150.85</td>\n      <td>0.83</td>\n      <td>0.5502</td>\n      <td>170921.50</td>\n      <td>2602103.042</td>\n    </tr>\n    <tr>\n      <th>65</th>\n      <td>000858.SZ</td>\n      <td>20200520</td>\n      <td>152.50</td>\n      <td>152.98</td>\n      <td>150.51</td>\n      <td>150.85</td>\n      <td>151.42</td>\n      <td>-0.57</td>\n      <td>-0.3764</td>\n      <td>170412.14</td>\n      <td>2580358.165</td>\n    </tr>\n    <tr>\n      <th>66</th>\n      <td>000858.SZ</td>\n      <td>20200519</td>\n      <td>153.33</td>\n      <td>153.49</td>\n      <td>150.37</td>\n      <td>151.42</td>\n      <td>151.19</td>\n      <td>0.23</td>\n      <td>0.1521</td>\n      <td>176505.56</td>\n      <td>2669709.609</td>\n    </tr>\n  </tbody>\n</table>\n<p>62 rows × 11 columns</p>\n</div>"
     },
     "execution_count": 54,
     "metadata": {},
     "output_type": "execute_result"
    }
   ],
   "source": [
    "df_source[df_source.open > 150] # 取数据"
   ],
   "metadata": {
    "collapsed": false,
    "pycharm": {
     "name": "#%%\n"
    }
   }
  },
  {
   "cell_type": "code",
   "execution_count": 17,
   "outputs": [
    {
     "data": {
      "text/plain": "       ts_code  trade_date    open    high     low   close  pre_close  change  pct_chg        vol       amount\n0    000858.SZ    20200821  220.00  220.98  216.44  218.40     216.44    1.96   0.9056  157318.61  3438178.399\n1    000858.SZ    20200820  220.00  220.92  216.00  216.44     222.20   -5.76  -2.5923  184906.63  4022580.052\n2    000858.SZ    20200819  220.47  225.96  217.27  222.20     220.57    1.63   0.7390  238472.68  5300628.768\n3    000858.SZ    20200818  219.99  223.00  218.12  220.57     219.99    0.58   0.2636  190382.49  4208955.657\n4    000858.SZ    20200817  214.50  222.00  214.50  219.99     212.90    7.09   3.3302  315155.99  6913069.145\n..         ...         ...     ...     ...     ...     ...        ...     ...      ...        ...          ...\n150  000858.SZ    20200108  128.99  129.76  128.05  128.89     129.37   -0.48  -0.3710  161802.18  2083242.871\n151  000858.SZ    20200107  129.50  131.07  129.00  129.37     129.20    0.17   0.1316  223277.93  2901574.233\n152  000858.SZ    20200106  130.00  130.25  128.52  129.20     130.55   -1.35  -1.0341  259369.79  3353682.073\n153  000858.SZ    20200103  131.60  132.07  129.61  130.55     132.08   -1.53  -1.1584  204692.48  2672531.470\n154  000858.SZ    20200102  132.00  133.50  129.59  132.08     133.01   -0.93  -0.6992  306674.39  4038536.854\n\n[155 rows x 11 columns]",
      "text/html": "<div>\n<style scoped>\n    .dataframe tbody tr th:only-of-type {\n        vertical-align: middle;\n    }\n\n    .dataframe tbody tr th {\n        vertical-align: top;\n    }\n\n    .dataframe thead th {\n        text-align: right;\n    }\n</style>\n<table border=\"1\" class=\"dataframe\">\n  <thead>\n    <tr style=\"text-align: right;\">\n      <th></th>\n      <th>ts_code</th>\n      <th>trade_date</th>\n      <th>open</th>\n      <th>high</th>\n      <th>low</th>\n      <th>close</th>\n      <th>pre_close</th>\n      <th>change</th>\n      <th>pct_chg</th>\n      <th>vol</th>\n      <th>amount</th>\n    </tr>\n  </thead>\n  <tbody>\n    <tr>\n      <th>0</th>\n      <td>000858.SZ</td>\n      <td>20200821</td>\n      <td>220.00</td>\n      <td>220.98</td>\n      <td>216.44</td>\n      <td>218.40</td>\n      <td>216.44</td>\n      <td>1.96</td>\n      <td>0.9056</td>\n      <td>157318.61</td>\n      <td>3438178.399</td>\n    </tr>\n    <tr>\n      <th>1</th>\n      <td>000858.SZ</td>\n      <td>20200820</td>\n      <td>220.00</td>\n      <td>220.92</td>\n      <td>216.00</td>\n      <td>216.44</td>\n      <td>222.20</td>\n      <td>-5.76</td>\n      <td>-2.5923</td>\n      <td>184906.63</td>\n      <td>4022580.052</td>\n    </tr>\n    <tr>\n      <th>2</th>\n      <td>000858.SZ</td>\n      <td>20200819</td>\n      <td>220.47</td>\n      <td>225.96</td>\n      <td>217.27</td>\n      <td>222.20</td>\n      <td>220.57</td>\n      <td>1.63</td>\n      <td>0.7390</td>\n      <td>238472.68</td>\n      <td>5300628.768</td>\n    </tr>\n    <tr>\n      <th>3</th>\n      <td>000858.SZ</td>\n      <td>20200818</td>\n      <td>219.99</td>\n      <td>223.00</td>\n      <td>218.12</td>\n      <td>220.57</td>\n      <td>219.99</td>\n      <td>0.58</td>\n      <td>0.2636</td>\n      <td>190382.49</td>\n      <td>4208955.657</td>\n    </tr>\n    <tr>\n      <th>4</th>\n      <td>000858.SZ</td>\n      <td>20200817</td>\n      <td>214.50</td>\n      <td>222.00</td>\n      <td>214.50</td>\n      <td>219.99</td>\n      <td>212.90</td>\n      <td>7.09</td>\n      <td>3.3302</td>\n      <td>315155.99</td>\n      <td>6913069.145</td>\n    </tr>\n    <tr>\n      <th>...</th>\n      <td>...</td>\n      <td>...</td>\n      <td>...</td>\n      <td>...</td>\n      <td>...</td>\n      <td>...</td>\n      <td>...</td>\n      <td>...</td>\n      <td>...</td>\n      <td>...</td>\n      <td>...</td>\n    </tr>\n    <tr>\n      <th>150</th>\n      <td>000858.SZ</td>\n      <td>20200108</td>\n      <td>128.99</td>\n      <td>129.76</td>\n      <td>128.05</td>\n      <td>128.89</td>\n      <td>129.37</td>\n      <td>-0.48</td>\n      <td>-0.3710</td>\n      <td>161802.18</td>\n      <td>2083242.871</td>\n    </tr>\n    <tr>\n      <th>151</th>\n      <td>000858.SZ</td>\n      <td>20200107</td>\n      <td>129.50</td>\n      <td>131.07</td>\n      <td>129.00</td>\n      <td>129.37</td>\n      <td>129.20</td>\n      <td>0.17</td>\n      <td>0.1316</td>\n      <td>223277.93</td>\n      <td>2901574.233</td>\n    </tr>\n    <tr>\n      <th>152</th>\n      <td>000858.SZ</td>\n      <td>20200106</td>\n      <td>130.00</td>\n      <td>130.25</td>\n      <td>128.52</td>\n      <td>129.20</td>\n      <td>130.55</td>\n      <td>-1.35</td>\n      <td>-1.0341</td>\n      <td>259369.79</td>\n      <td>3353682.073</td>\n    </tr>\n    <tr>\n      <th>153</th>\n      <td>000858.SZ</td>\n      <td>20200103</td>\n      <td>131.60</td>\n      <td>132.07</td>\n      <td>129.61</td>\n      <td>130.55</td>\n      <td>132.08</td>\n      <td>-1.53</td>\n      <td>-1.1584</td>\n      <td>204692.48</td>\n      <td>2672531.470</td>\n    </tr>\n    <tr>\n      <th>154</th>\n      <td>000858.SZ</td>\n      <td>20200102</td>\n      <td>132.00</td>\n      <td>133.50</td>\n      <td>129.59</td>\n      <td>132.08</td>\n      <td>133.01</td>\n      <td>-0.93</td>\n      <td>-0.6992</td>\n      <td>306674.39</td>\n      <td>4038536.854</td>\n    </tr>\n  </tbody>\n</table>\n<p>155 rows × 11 columns</p>\n</div>"
     },
     "execution_count": 17,
     "metadata": {},
     "output_type": "execute_result"
    }
   ],
   "source": [
    "df_source.drop_duplicates() # 删除重复值"
   ],
   "metadata": {
    "collapsed": false,
    "pycharm": {
     "name": "#%%\n"
    }
   }
  },
  {
   "cell_type": "code",
   "execution_count": 22,
   "outputs": [
    {
     "data": {
      "text/plain": "       ts_code  trade_date    open    high     low   close  pre_close  change  pct_chg        vol       amount\n117  000858.SZ    20200303  123.70  125.88  123.70  124.37     122.65    1.72   1.4024  230923.24  2878896.360\n75   000858.SZ    20200506  134.50  139.05  133.98  138.21     135.77    2.44   1.7972  251044.81  3442757.066\n51   000858.SZ    20200609  160.58  163.00  159.01  162.61     160.61    2.00   1.2453  161118.88  2610701.054\n31   000858.SZ    20200709  203.39  205.36  201.50  203.72     203.36    0.36   0.1770  295243.49  5988999.450\n35   000858.SZ    20200703  189.99  190.50  182.50  188.72     189.49   -0.77  -0.4064  308159.41  5745184.556\n40   000858.SZ    20200624  168.41  171.30  167.00  168.61     167.98    0.63   0.3750  187986.02  3172425.486\n14   000858.SZ    20200803  218.18  219.93  215.20  217.72     217.50    0.22   0.1011  201453.55  4369803.363\n109  000858.SZ    20200313  120.00  125.22  118.88  122.60     126.04   -3.44  -2.7293  350886.98  4280415.922",
      "text/html": "<div>\n<style scoped>\n    .dataframe tbody tr th:only-of-type {\n        vertical-align: middle;\n    }\n\n    .dataframe tbody tr th {\n        vertical-align: top;\n    }\n\n    .dataframe thead th {\n        text-align: right;\n    }\n</style>\n<table border=\"1\" class=\"dataframe\">\n  <thead>\n    <tr style=\"text-align: right;\">\n      <th></th>\n      <th>ts_code</th>\n      <th>trade_date</th>\n      <th>open</th>\n      <th>high</th>\n      <th>low</th>\n      <th>close</th>\n      <th>pre_close</th>\n      <th>change</th>\n      <th>pct_chg</th>\n      <th>vol</th>\n      <th>amount</th>\n    </tr>\n  </thead>\n  <tbody>\n    <tr>\n      <th>117</th>\n      <td>000858.SZ</td>\n      <td>20200303</td>\n      <td>123.70</td>\n      <td>125.88</td>\n      <td>123.70</td>\n      <td>124.37</td>\n      <td>122.65</td>\n      <td>1.72</td>\n      <td>1.4024</td>\n      <td>230923.24</td>\n      <td>2878896.360</td>\n    </tr>\n    <tr>\n      <th>75</th>\n      <td>000858.SZ</td>\n      <td>20200506</td>\n      <td>134.50</td>\n      <td>139.05</td>\n      <td>133.98</td>\n      <td>138.21</td>\n      <td>135.77</td>\n      <td>2.44</td>\n      <td>1.7972</td>\n      <td>251044.81</td>\n      <td>3442757.066</td>\n    </tr>\n    <tr>\n      <th>51</th>\n      <td>000858.SZ</td>\n      <td>20200609</td>\n      <td>160.58</td>\n      <td>163.00</td>\n      <td>159.01</td>\n      <td>162.61</td>\n      <td>160.61</td>\n      <td>2.00</td>\n      <td>1.2453</td>\n      <td>161118.88</td>\n      <td>2610701.054</td>\n    </tr>\n    <tr>\n      <th>31</th>\n      <td>000858.SZ</td>\n      <td>20200709</td>\n      <td>203.39</td>\n      <td>205.36</td>\n      <td>201.50</td>\n      <td>203.72</td>\n      <td>203.36</td>\n      <td>0.36</td>\n      <td>0.1770</td>\n      <td>295243.49</td>\n      <td>5988999.450</td>\n    </tr>\n    <tr>\n      <th>35</th>\n      <td>000858.SZ</td>\n      <td>20200703</td>\n      <td>189.99</td>\n      <td>190.50</td>\n      <td>182.50</td>\n      <td>188.72</td>\n      <td>189.49</td>\n      <td>-0.77</td>\n      <td>-0.4064</td>\n      <td>308159.41</td>\n      <td>5745184.556</td>\n    </tr>\n    <tr>\n      <th>40</th>\n      <td>000858.SZ</td>\n      <td>20200624</td>\n      <td>168.41</td>\n      <td>171.30</td>\n      <td>167.00</td>\n      <td>168.61</td>\n      <td>167.98</td>\n      <td>0.63</td>\n      <td>0.3750</td>\n      <td>187986.02</td>\n      <td>3172425.486</td>\n    </tr>\n    <tr>\n      <th>14</th>\n      <td>000858.SZ</td>\n      <td>20200803</td>\n      <td>218.18</td>\n      <td>219.93</td>\n      <td>215.20</td>\n      <td>217.72</td>\n      <td>217.50</td>\n      <td>0.22</td>\n      <td>0.1011</td>\n      <td>201453.55</td>\n      <td>4369803.363</td>\n    </tr>\n    <tr>\n      <th>109</th>\n      <td>000858.SZ</td>\n      <td>20200313</td>\n      <td>120.00</td>\n      <td>125.22</td>\n      <td>118.88</td>\n      <td>122.60</td>\n      <td>126.04</td>\n      <td>-3.44</td>\n      <td>-2.7293</td>\n      <td>350886.98</td>\n      <td>4280415.922</td>\n    </tr>\n  </tbody>\n</table>\n</div>"
     },
     "execution_count": 22,
     "metadata": {},
     "output_type": "execute_result"
    }
   ],
   "source": [
    "df_source.sample(frac=0.05, random_state=1) # frac 取??%的数据"
   ],
   "metadata": {
    "collapsed": false,
    "pycharm": {
     "name": "#%%\n"
    }
   }
  },
  {
   "cell_type": "code",
   "execution_count": 23,
   "outputs": [
    {
     "data": {
      "text/plain": "       ts_code  trade_date    open    high     low   close  pre_close  change  pct_chg        vol       amount\n117  000858.SZ    20200303  123.70  125.88  123.70  124.37     122.65    1.72   1.4024  230923.24  2878896.360\n75   000858.SZ    20200506  134.50  139.05  133.98  138.21     135.77    2.44   1.7972  251044.81  3442757.066\n51   000858.SZ    20200609  160.58  163.00  159.01  162.61     160.61    2.00   1.2453  161118.88  2610701.054",
      "text/html": "<div>\n<style scoped>\n    .dataframe tbody tr th:only-of-type {\n        vertical-align: middle;\n    }\n\n    .dataframe tbody tr th {\n        vertical-align: top;\n    }\n\n    .dataframe thead th {\n        text-align: right;\n    }\n</style>\n<table border=\"1\" class=\"dataframe\">\n  <thead>\n    <tr style=\"text-align: right;\">\n      <th></th>\n      <th>ts_code</th>\n      <th>trade_date</th>\n      <th>open</th>\n      <th>high</th>\n      <th>low</th>\n      <th>close</th>\n      <th>pre_close</th>\n      <th>change</th>\n      <th>pct_chg</th>\n      <th>vol</th>\n      <th>amount</th>\n    </tr>\n  </thead>\n  <tbody>\n    <tr>\n      <th>117</th>\n      <td>000858.SZ</td>\n      <td>20200303</td>\n      <td>123.70</td>\n      <td>125.88</td>\n      <td>123.70</td>\n      <td>124.37</td>\n      <td>122.65</td>\n      <td>1.72</td>\n      <td>1.4024</td>\n      <td>230923.24</td>\n      <td>2878896.360</td>\n    </tr>\n    <tr>\n      <th>75</th>\n      <td>000858.SZ</td>\n      <td>20200506</td>\n      <td>134.50</td>\n      <td>139.05</td>\n      <td>133.98</td>\n      <td>138.21</td>\n      <td>135.77</td>\n      <td>2.44</td>\n      <td>1.7972</td>\n      <td>251044.81</td>\n      <td>3442757.066</td>\n    </tr>\n    <tr>\n      <th>51</th>\n      <td>000858.SZ</td>\n      <td>20200609</td>\n      <td>160.58</td>\n      <td>163.00</td>\n      <td>159.01</td>\n      <td>162.61</td>\n      <td>160.61</td>\n      <td>2.00</td>\n      <td>1.2453</td>\n      <td>161118.88</td>\n      <td>2610701.054</td>\n    </tr>\n  </tbody>\n</table>\n</div>"
     },
     "execution_count": 23,
     "metadata": {},
     "output_type": "execute_result"
    }
   ],
   "source": [
    "df_source.sample(n=3, random_state=1) # n 随机取n个"
   ],
   "metadata": {
    "collapsed": false,
    "pycharm": {
     "name": "#%%\n"
    }
   }
  },
  {
   "cell_type": "code",
   "execution_count": 27,
   "outputs": [
    {
     "data": {
      "text/plain": "      ts_code  trade_date    open    high     low   close  pre_close  change  pct_chg        vol       amount\n27  000858.SZ    20200715  219.00  226.00  217.60  223.95     220.90    3.05   1.3807  371699.54  8289624.150\n2   000858.SZ    20200819  220.47  225.96  217.27  222.20     220.57    1.63   0.7390  238472.68  5300628.768\n28  000858.SZ    20200714  218.30  225.33  212.03  220.90     218.20    2.70   1.2374  438733.08  9589876.574",
      "text/html": "<div>\n<style scoped>\n    .dataframe tbody tr th:only-of-type {\n        vertical-align: middle;\n    }\n\n    .dataframe tbody tr th {\n        vertical-align: top;\n    }\n\n    .dataframe thead th {\n        text-align: right;\n    }\n</style>\n<table border=\"1\" class=\"dataframe\">\n  <thead>\n    <tr style=\"text-align: right;\">\n      <th></th>\n      <th>ts_code</th>\n      <th>trade_date</th>\n      <th>open</th>\n      <th>high</th>\n      <th>low</th>\n      <th>close</th>\n      <th>pre_close</th>\n      <th>change</th>\n      <th>pct_chg</th>\n      <th>vol</th>\n      <th>amount</th>\n    </tr>\n  </thead>\n  <tbody>\n    <tr>\n      <th>27</th>\n      <td>000858.SZ</td>\n      <td>20200715</td>\n      <td>219.00</td>\n      <td>226.00</td>\n      <td>217.60</td>\n      <td>223.95</td>\n      <td>220.90</td>\n      <td>3.05</td>\n      <td>1.3807</td>\n      <td>371699.54</td>\n      <td>8289624.150</td>\n    </tr>\n    <tr>\n      <th>2</th>\n      <td>000858.SZ</td>\n      <td>20200819</td>\n      <td>220.47</td>\n      <td>225.96</td>\n      <td>217.27</td>\n      <td>222.20</td>\n      <td>220.57</td>\n      <td>1.63</td>\n      <td>0.7390</td>\n      <td>238472.68</td>\n      <td>5300628.768</td>\n    </tr>\n    <tr>\n      <th>28</th>\n      <td>000858.SZ</td>\n      <td>20200714</td>\n      <td>218.30</td>\n      <td>225.33</td>\n      <td>212.03</td>\n      <td>220.90</td>\n      <td>218.20</td>\n      <td>2.70</td>\n      <td>1.2374</td>\n      <td>438733.08</td>\n      <td>9589876.574</td>\n    </tr>\n  </tbody>\n</table>\n</div>"
     },
     "execution_count": 27,
     "metadata": {},
     "output_type": "execute_result"
    }
   ],
   "source": [
    "df_source.nlargest(3, ['high'], keep='all')\n",
    "# keep: all表示显示全部重复项\n",
    "#       first显示重复值第一次出现的行\n",
    "#       last显示重复值最后一次出现的行"
   ],
   "metadata": {
    "collapsed": false,
    "pycharm": {
     "name": "#%%\n"
    }
   }
  },
  {
   "cell_type": "code",
   "execution_count": 28,
   "outputs": [
    {
     "data": {
      "text/plain": "       ts_code  trade_date    open    high     low   close  pre_close  change  pct_chg        vol       amount\n103  000858.SZ    20200323  104.00  106.50  103.04  104.51     108.51   -4.00  -3.6863  328265.40  3443583.082\n105  000858.SZ    20200319  105.80  107.00   98.63  102.11     107.59   -5.48  -5.0934  601697.89  6133825.332\n104  000858.SZ    20200320  104.32  109.66  104.21  108.51     102.11    6.40   6.2678  422063.90  4484741.875",
      "text/html": "<div>\n<style scoped>\n    .dataframe tbody tr th:only-of-type {\n        vertical-align: middle;\n    }\n\n    .dataframe tbody tr th {\n        vertical-align: top;\n    }\n\n    .dataframe thead th {\n        text-align: right;\n    }\n</style>\n<table border=\"1\" class=\"dataframe\">\n  <thead>\n    <tr style=\"text-align: right;\">\n      <th></th>\n      <th>ts_code</th>\n      <th>trade_date</th>\n      <th>open</th>\n      <th>high</th>\n      <th>low</th>\n      <th>close</th>\n      <th>pre_close</th>\n      <th>change</th>\n      <th>pct_chg</th>\n      <th>vol</th>\n      <th>amount</th>\n    </tr>\n  </thead>\n  <tbody>\n    <tr>\n      <th>103</th>\n      <td>000858.SZ</td>\n      <td>20200323</td>\n      <td>104.00</td>\n      <td>106.50</td>\n      <td>103.04</td>\n      <td>104.51</td>\n      <td>108.51</td>\n      <td>-4.00</td>\n      <td>-3.6863</td>\n      <td>328265.40</td>\n      <td>3443583.082</td>\n    </tr>\n    <tr>\n      <th>105</th>\n      <td>000858.SZ</td>\n      <td>20200319</td>\n      <td>105.80</td>\n      <td>107.00</td>\n      <td>98.63</td>\n      <td>102.11</td>\n      <td>107.59</td>\n      <td>-5.48</td>\n      <td>-5.0934</td>\n      <td>601697.89</td>\n      <td>6133825.332</td>\n    </tr>\n    <tr>\n      <th>104</th>\n      <td>000858.SZ</td>\n      <td>20200320</td>\n      <td>104.32</td>\n      <td>109.66</td>\n      <td>104.21</td>\n      <td>108.51</td>\n      <td>102.11</td>\n      <td>6.40</td>\n      <td>6.2678</td>\n      <td>422063.90</td>\n      <td>4484741.875</td>\n    </tr>\n  </tbody>\n</table>\n</div>"
     },
     "execution_count": 28,
     "metadata": {},
     "output_type": "execute_result"
    }
   ],
   "source": [
    "df_source.nsmallest(3, ['high'])"
   ],
   "metadata": {
    "collapsed": false,
    "pycharm": {
     "name": "#%%\n"
    }
   }
  },
  {
   "cell_type": "code",
   "execution_count": 29,
   "outputs": [
    {
     "data": {
      "text/plain": "     ts_code  trade_date    open    high     low   close  pre_close  change  pct_chg        vol       amount\n0  000858.SZ    20200821  220.00  220.98  216.44  218.40     216.44    1.96   0.9056  157318.61  3438178.399\n1  000858.SZ    20200820  220.00  220.92  216.00  216.44     222.20   -5.76  -2.5923  184906.63  4022580.052\n2  000858.SZ    20200819  220.47  225.96  217.27  222.20     220.57    1.63   0.7390  238472.68  5300628.768\n3  000858.SZ    20200818  219.99  223.00  218.12  220.57     219.99    0.58   0.2636  190382.49  4208955.657\n4  000858.SZ    20200817  214.50  222.00  214.50  219.99     212.90    7.09   3.3302  315155.99  6913069.145",
      "text/html": "<div>\n<style scoped>\n    .dataframe tbody tr th:only-of-type {\n        vertical-align: middle;\n    }\n\n    .dataframe tbody tr th {\n        vertical-align: top;\n    }\n\n    .dataframe thead th {\n        text-align: right;\n    }\n</style>\n<table border=\"1\" class=\"dataframe\">\n  <thead>\n    <tr style=\"text-align: right;\">\n      <th></th>\n      <th>ts_code</th>\n      <th>trade_date</th>\n      <th>open</th>\n      <th>high</th>\n      <th>low</th>\n      <th>close</th>\n      <th>pre_close</th>\n      <th>change</th>\n      <th>pct_chg</th>\n      <th>vol</th>\n      <th>amount</th>\n    </tr>\n  </thead>\n  <tbody>\n    <tr>\n      <th>0</th>\n      <td>000858.SZ</td>\n      <td>20200821</td>\n      <td>220.00</td>\n      <td>220.98</td>\n      <td>216.44</td>\n      <td>218.40</td>\n      <td>216.44</td>\n      <td>1.96</td>\n      <td>0.9056</td>\n      <td>157318.61</td>\n      <td>3438178.399</td>\n    </tr>\n    <tr>\n      <th>1</th>\n      <td>000858.SZ</td>\n      <td>20200820</td>\n      <td>220.00</td>\n      <td>220.92</td>\n      <td>216.00</td>\n      <td>216.44</td>\n      <td>222.20</td>\n      <td>-5.76</td>\n      <td>-2.5923</td>\n      <td>184906.63</td>\n      <td>4022580.052</td>\n    </tr>\n    <tr>\n      <th>2</th>\n      <td>000858.SZ</td>\n      <td>20200819</td>\n      <td>220.47</td>\n      <td>225.96</td>\n      <td>217.27</td>\n      <td>222.20</td>\n      <td>220.57</td>\n      <td>1.63</td>\n      <td>0.7390</td>\n      <td>238472.68</td>\n      <td>5300628.768</td>\n    </tr>\n    <tr>\n      <th>3</th>\n      <td>000858.SZ</td>\n      <td>20200818</td>\n      <td>219.99</td>\n      <td>223.00</td>\n      <td>218.12</td>\n      <td>220.57</td>\n      <td>219.99</td>\n      <td>0.58</td>\n      <td>0.2636</td>\n      <td>190382.49</td>\n      <td>4208955.657</td>\n    </tr>\n    <tr>\n      <th>4</th>\n      <td>000858.SZ</td>\n      <td>20200817</td>\n      <td>214.50</td>\n      <td>222.00</td>\n      <td>214.50</td>\n      <td>219.99</td>\n      <td>212.90</td>\n      <td>7.09</td>\n      <td>3.3302</td>\n      <td>315155.99</td>\n      <td>6913069.145</td>\n    </tr>\n  </tbody>\n</table>\n</div>"
     },
     "execution_count": 29,
     "metadata": {},
     "output_type": "execute_result"
    }
   ],
   "source": [
    "df_source.head()"
   ],
   "metadata": {
    "collapsed": false,
    "pycharm": {
     "name": "#%%\n"
    }
   }
  },
  {
   "cell_type": "code",
   "execution_count": 30,
   "outputs": [
    {
     "data": {
      "text/plain": "       ts_code  trade_date    open    high     low   close  pre_close  change  pct_chg        vol       amount\n150  000858.SZ    20200108  128.99  129.76  128.05  128.89     129.37   -0.48  -0.3710  161802.18  2083242.871\n151  000858.SZ    20200107  129.50  131.07  129.00  129.37     129.20    0.17   0.1316  223277.93  2901574.233\n152  000858.SZ    20200106  130.00  130.25  128.52  129.20     130.55   -1.35  -1.0341  259369.79  3353682.073\n153  000858.SZ    20200103  131.60  132.07  129.61  130.55     132.08   -1.53  -1.1584  204692.48  2672531.470\n154  000858.SZ    20200102  132.00  133.50  129.59  132.08     133.01   -0.93  -0.6992  306674.39  4038536.854",
      "text/html": "<div>\n<style scoped>\n    .dataframe tbody tr th:only-of-type {\n        vertical-align: middle;\n    }\n\n    .dataframe tbody tr th {\n        vertical-align: top;\n    }\n\n    .dataframe thead th {\n        text-align: right;\n    }\n</style>\n<table border=\"1\" class=\"dataframe\">\n  <thead>\n    <tr style=\"text-align: right;\">\n      <th></th>\n      <th>ts_code</th>\n      <th>trade_date</th>\n      <th>open</th>\n      <th>high</th>\n      <th>low</th>\n      <th>close</th>\n      <th>pre_close</th>\n      <th>change</th>\n      <th>pct_chg</th>\n      <th>vol</th>\n      <th>amount</th>\n    </tr>\n  </thead>\n  <tbody>\n    <tr>\n      <th>150</th>\n      <td>000858.SZ</td>\n      <td>20200108</td>\n      <td>128.99</td>\n      <td>129.76</td>\n      <td>128.05</td>\n      <td>128.89</td>\n      <td>129.37</td>\n      <td>-0.48</td>\n      <td>-0.3710</td>\n      <td>161802.18</td>\n      <td>2083242.871</td>\n    </tr>\n    <tr>\n      <th>151</th>\n      <td>000858.SZ</td>\n      <td>20200107</td>\n      <td>129.50</td>\n      <td>131.07</td>\n      <td>129.00</td>\n      <td>129.37</td>\n      <td>129.20</td>\n      <td>0.17</td>\n      <td>0.1316</td>\n      <td>223277.93</td>\n      <td>2901574.233</td>\n    </tr>\n    <tr>\n      <th>152</th>\n      <td>000858.SZ</td>\n      <td>20200106</td>\n      <td>130.00</td>\n      <td>130.25</td>\n      <td>128.52</td>\n      <td>129.20</td>\n      <td>130.55</td>\n      <td>-1.35</td>\n      <td>-1.0341</td>\n      <td>259369.79</td>\n      <td>3353682.073</td>\n    </tr>\n    <tr>\n      <th>153</th>\n      <td>000858.SZ</td>\n      <td>20200103</td>\n      <td>131.60</td>\n      <td>132.07</td>\n      <td>129.61</td>\n      <td>130.55</td>\n      <td>132.08</td>\n      <td>-1.53</td>\n      <td>-1.1584</td>\n      <td>204692.48</td>\n      <td>2672531.470</td>\n    </tr>\n    <tr>\n      <th>154</th>\n      <td>000858.SZ</td>\n      <td>20200102</td>\n      <td>132.00</td>\n      <td>133.50</td>\n      <td>129.59</td>\n      <td>132.08</td>\n      <td>133.01</td>\n      <td>-0.93</td>\n      <td>-0.6992</td>\n      <td>306674.39</td>\n      <td>4038536.854</td>\n    </tr>\n  </tbody>\n</table>\n</div>"
     },
     "execution_count": 30,
     "metadata": {},
     "output_type": "execute_result"
    }
   ],
   "source": [
    "df_source.tail()\n"
   ],
   "metadata": {
    "collapsed": false,
    "pycharm": {
     "name": "#%%\n"
    }
   }
  },
  {
   "cell_type": "markdown",
   "source": [
    "#### 列操作"
   ],
   "metadata": {
    "collapsed": false,
    "pycharm": {
     "name": "#%% md\n"
    }
   }
  },
  {
   "cell_type": "code",
   "execution_count": 31,
   "outputs": [
    {
     "data": {
      "text/plain": "       ts_code  trade_date    open   close\n0    000858.SZ    20200821  220.00  218.40\n1    000858.SZ    20200820  220.00  216.44\n2    000858.SZ    20200819  220.47  222.20\n3    000858.SZ    20200818  219.99  220.57\n4    000858.SZ    20200817  214.50  219.99\n..         ...         ...     ...     ...\n150  000858.SZ    20200108  128.99  128.89\n151  000858.SZ    20200107  129.50  129.37\n152  000858.SZ    20200106  130.00  129.20\n153  000858.SZ    20200103  131.60  130.55\n154  000858.SZ    20200102  132.00  132.08\n\n[155 rows x 4 columns]",
      "text/html": "<div>\n<style scoped>\n    .dataframe tbody tr th:only-of-type {\n        vertical-align: middle;\n    }\n\n    .dataframe tbody tr th {\n        vertical-align: top;\n    }\n\n    .dataframe thead th {\n        text-align: right;\n    }\n</style>\n<table border=\"1\" class=\"dataframe\">\n  <thead>\n    <tr style=\"text-align: right;\">\n      <th></th>\n      <th>ts_code</th>\n      <th>trade_date</th>\n      <th>open</th>\n      <th>close</th>\n    </tr>\n  </thead>\n  <tbody>\n    <tr>\n      <th>0</th>\n      <td>000858.SZ</td>\n      <td>20200821</td>\n      <td>220.00</td>\n      <td>218.40</td>\n    </tr>\n    <tr>\n      <th>1</th>\n      <td>000858.SZ</td>\n      <td>20200820</td>\n      <td>220.00</td>\n      <td>216.44</td>\n    </tr>\n    <tr>\n      <th>2</th>\n      <td>000858.SZ</td>\n      <td>20200819</td>\n      <td>220.47</td>\n      <td>222.20</td>\n    </tr>\n    <tr>\n      <th>3</th>\n      <td>000858.SZ</td>\n      <td>20200818</td>\n      <td>219.99</td>\n      <td>220.57</td>\n    </tr>\n    <tr>\n      <th>4</th>\n      <td>000858.SZ</td>\n      <td>20200817</td>\n      <td>214.50</td>\n      <td>219.99</td>\n    </tr>\n    <tr>\n      <th>...</th>\n      <td>...</td>\n      <td>...</td>\n      <td>...</td>\n      <td>...</td>\n    </tr>\n    <tr>\n      <th>150</th>\n      <td>000858.SZ</td>\n      <td>20200108</td>\n      <td>128.99</td>\n      <td>128.89</td>\n    </tr>\n    <tr>\n      <th>151</th>\n      <td>000858.SZ</td>\n      <td>20200107</td>\n      <td>129.50</td>\n      <td>129.37</td>\n    </tr>\n    <tr>\n      <th>152</th>\n      <td>000858.SZ</td>\n      <td>20200106</td>\n      <td>130.00</td>\n      <td>129.20</td>\n    </tr>\n    <tr>\n      <th>153</th>\n      <td>000858.SZ</td>\n      <td>20200103</td>\n      <td>131.60</td>\n      <td>130.55</td>\n    </tr>\n    <tr>\n      <th>154</th>\n      <td>000858.SZ</td>\n      <td>20200102</td>\n      <td>132.00</td>\n      <td>132.08</td>\n    </tr>\n  </tbody>\n</table>\n<p>155 rows × 4 columns</p>\n</div>"
     },
     "execution_count": 31,
     "metadata": {},
     "output_type": "execute_result"
    }
   ],
   "source": [
    "df_source[['ts_code','trade_date','open','close']] # 取指定列"
   ],
   "metadata": {
    "collapsed": false,
    "pycharm": {
     "name": "#%%\n"
    }
   }
  },
  {
   "cell_type": "code",
   "execution_count": 33,
   "outputs": [
    {
     "data": {
      "text/plain": "      close  pre_close\n0    218.40     216.44\n1    216.44     222.20\n2    222.20     220.57\n3    220.57     219.99\n4    219.99     212.90\n..      ...        ...\n150  128.89     129.37\n151  129.37     129.20\n152  129.20     130.55\n153  130.55     132.08\n154  132.08     133.01\n\n[155 rows x 2 columns]",
      "text/html": "<div>\n<style scoped>\n    .dataframe tbody tr th:only-of-type {\n        vertical-align: middle;\n    }\n\n    .dataframe tbody tr th {\n        vertical-align: top;\n    }\n\n    .dataframe thead th {\n        text-align: right;\n    }\n</style>\n<table border=\"1\" class=\"dataframe\">\n  <thead>\n    <tr style=\"text-align: right;\">\n      <th></th>\n      <th>close</th>\n      <th>pre_close</th>\n    </tr>\n  </thead>\n  <tbody>\n    <tr>\n      <th>0</th>\n      <td>218.40</td>\n      <td>216.44</td>\n    </tr>\n    <tr>\n      <th>1</th>\n      <td>216.44</td>\n      <td>222.20</td>\n    </tr>\n    <tr>\n      <th>2</th>\n      <td>222.20</td>\n      <td>220.57</td>\n    </tr>\n    <tr>\n      <th>3</th>\n      <td>220.57</td>\n      <td>219.99</td>\n    </tr>\n    <tr>\n      <th>4</th>\n      <td>219.99</td>\n      <td>212.90</td>\n    </tr>\n    <tr>\n      <th>...</th>\n      <td>...</td>\n      <td>...</td>\n    </tr>\n    <tr>\n      <th>150</th>\n      <td>128.89</td>\n      <td>129.37</td>\n    </tr>\n    <tr>\n      <th>151</th>\n      <td>129.37</td>\n      <td>129.20</td>\n    </tr>\n    <tr>\n      <th>152</th>\n      <td>129.20</td>\n      <td>130.55</td>\n    </tr>\n    <tr>\n      <th>153</th>\n      <td>130.55</td>\n      <td>132.08</td>\n    </tr>\n    <tr>\n      <th>154</th>\n      <td>132.08</td>\n      <td>133.01</td>\n    </tr>\n  </tbody>\n</table>\n<p>155 rows × 2 columns</p>\n</div>"
     },
     "execution_count": 33,
     "metadata": {},
     "output_type": "execute_result"
    }
   ],
   "source": [
    "df_source.filter(like='clos', axis=1)"
   ],
   "metadata": {
    "collapsed": false,
    "pycharm": {
     "name": "#%%\n"
    }
   }
  },
  {
   "cell_type": "code",
   "execution_count": 34,
   "outputs": [
    {
     "data": {
      "text/plain": "       ts_code  trade_date    open    high     low   close  pre_close  change  pct_chg        vol       amount\n1    000858.SZ    20200820  220.00  220.92  216.00  216.44     222.20   -5.76  -2.5923  184906.63  4022580.052\n10   000858.SZ    20200807  210.00  213.00  203.18  207.26     211.02   -3.76  -1.7818  287235.84  5960012.764\n11   000858.SZ    20200806  217.48  218.54  209.66  211.02     217.48   -6.46  -2.9704  323043.59  6855967.077\n12   000858.SZ    20200805  215.60  217.76  213.00  217.48     215.80    1.68   0.7785  186712.38  4024536.334\n13   000858.SZ    20200804  217.50  219.80  214.00  215.80     217.72   -1.92  -0.8819  206769.41  4483369.686\n..         ...         ...     ...     ...     ...     ...        ...     ...      ...        ...          ...\n150  000858.SZ    20200108  128.99  129.76  128.05  128.89     129.37   -0.48  -0.3710  161802.18  2083242.871\n151  000858.SZ    20200107  129.50  131.07  129.00  129.37     129.20    0.17   0.1316  223277.93  2901574.233\n152  000858.SZ    20200106  130.00  130.25  128.52  129.20     130.55   -1.35  -1.0341  259369.79  3353682.073\n153  000858.SZ    20200103  131.60  132.07  129.61  130.55     132.08   -1.53  -1.1584  204692.48  2672531.470\n154  000858.SZ    20200102  132.00  133.50  129.59  132.08     133.01   -0.93  -0.6992  306674.39  4038536.854\n\n[74 rows x 11 columns]",
      "text/html": "<div>\n<style scoped>\n    .dataframe tbody tr th:only-of-type {\n        vertical-align: middle;\n    }\n\n    .dataframe tbody tr th {\n        vertical-align: top;\n    }\n\n    .dataframe thead th {\n        text-align: right;\n    }\n</style>\n<table border=\"1\" class=\"dataframe\">\n  <thead>\n    <tr style=\"text-align: right;\">\n      <th></th>\n      <th>ts_code</th>\n      <th>trade_date</th>\n      <th>open</th>\n      <th>high</th>\n      <th>low</th>\n      <th>close</th>\n      <th>pre_close</th>\n      <th>change</th>\n      <th>pct_chg</th>\n      <th>vol</th>\n      <th>amount</th>\n    </tr>\n  </thead>\n  <tbody>\n    <tr>\n      <th>1</th>\n      <td>000858.SZ</td>\n      <td>20200820</td>\n      <td>220.00</td>\n      <td>220.92</td>\n      <td>216.00</td>\n      <td>216.44</td>\n      <td>222.20</td>\n      <td>-5.76</td>\n      <td>-2.5923</td>\n      <td>184906.63</td>\n      <td>4022580.052</td>\n    </tr>\n    <tr>\n      <th>10</th>\n      <td>000858.SZ</td>\n      <td>20200807</td>\n      <td>210.00</td>\n      <td>213.00</td>\n      <td>203.18</td>\n      <td>207.26</td>\n      <td>211.02</td>\n      <td>-3.76</td>\n      <td>-1.7818</td>\n      <td>287235.84</td>\n      <td>5960012.764</td>\n    </tr>\n    <tr>\n      <th>11</th>\n      <td>000858.SZ</td>\n      <td>20200806</td>\n      <td>217.48</td>\n      <td>218.54</td>\n      <td>209.66</td>\n      <td>211.02</td>\n      <td>217.48</td>\n      <td>-6.46</td>\n      <td>-2.9704</td>\n      <td>323043.59</td>\n      <td>6855967.077</td>\n    </tr>\n    <tr>\n      <th>12</th>\n      <td>000858.SZ</td>\n      <td>20200805</td>\n      <td>215.60</td>\n      <td>217.76</td>\n      <td>213.00</td>\n      <td>217.48</td>\n      <td>215.80</td>\n      <td>1.68</td>\n      <td>0.7785</td>\n      <td>186712.38</td>\n      <td>4024536.334</td>\n    </tr>\n    <tr>\n      <th>13</th>\n      <td>000858.SZ</td>\n      <td>20200804</td>\n      <td>217.50</td>\n      <td>219.80</td>\n      <td>214.00</td>\n      <td>215.80</td>\n      <td>217.72</td>\n      <td>-1.92</td>\n      <td>-0.8819</td>\n      <td>206769.41</td>\n      <td>4483369.686</td>\n    </tr>\n    <tr>\n      <th>...</th>\n      <td>...</td>\n      <td>...</td>\n      <td>...</td>\n      <td>...</td>\n      <td>...</td>\n      <td>...</td>\n      <td>...</td>\n      <td>...</td>\n      <td>...</td>\n      <td>...</td>\n      <td>...</td>\n    </tr>\n    <tr>\n      <th>150</th>\n      <td>000858.SZ</td>\n      <td>20200108</td>\n      <td>128.99</td>\n      <td>129.76</td>\n      <td>128.05</td>\n      <td>128.89</td>\n      <td>129.37</td>\n      <td>-0.48</td>\n      <td>-0.3710</td>\n      <td>161802.18</td>\n      <td>2083242.871</td>\n    </tr>\n    <tr>\n      <th>151</th>\n      <td>000858.SZ</td>\n      <td>20200107</td>\n      <td>129.50</td>\n      <td>131.07</td>\n      <td>129.00</td>\n      <td>129.37</td>\n      <td>129.20</td>\n      <td>0.17</td>\n      <td>0.1316</td>\n      <td>223277.93</td>\n      <td>2901574.233</td>\n    </tr>\n    <tr>\n      <th>152</th>\n      <td>000858.SZ</td>\n      <td>20200106</td>\n      <td>130.00</td>\n      <td>130.25</td>\n      <td>128.52</td>\n      <td>129.20</td>\n      <td>130.55</td>\n      <td>-1.35</td>\n      <td>-1.0341</td>\n      <td>259369.79</td>\n      <td>3353682.073</td>\n    </tr>\n    <tr>\n      <th>153</th>\n      <td>000858.SZ</td>\n      <td>20200103</td>\n      <td>131.60</td>\n      <td>132.07</td>\n      <td>129.61</td>\n      <td>130.55</td>\n      <td>132.08</td>\n      <td>-1.53</td>\n      <td>-1.1584</td>\n      <td>204692.48</td>\n      <td>2672531.470</td>\n    </tr>\n    <tr>\n      <th>154</th>\n      <td>000858.SZ</td>\n      <td>20200102</td>\n      <td>132.00</td>\n      <td>133.50</td>\n      <td>129.59</td>\n      <td>132.08</td>\n      <td>133.01</td>\n      <td>-0.93</td>\n      <td>-0.6992</td>\n      <td>306674.39</td>\n      <td>4038536.854</td>\n    </tr>\n  </tbody>\n</table>\n<p>74 rows × 11 columns</p>\n</div>"
     },
     "execution_count": 34,
     "metadata": {},
     "output_type": "execute_result"
    }
   ],
   "source": [
    "df_source.filter(like='1', axis=0) # 从axis指定方向取like条件"
   ],
   "metadata": {
    "collapsed": false,
    "pycharm": {
     "name": "#%%\n"
    }
   }
  },
  {
   "cell_type": "code",
   "execution_count": 51,
   "outputs": [
    {
     "data": {
      "text/plain": "       ts_code  trade_date    open    high     low   close  pre_close  change  pct_chg        vol       amount\n10   000858.SZ    20200807  210.00  213.00  203.18  207.26     211.02   -3.76  -1.7818  287235.84  5960012.764\n11   000858.SZ    20200806  217.48  218.54  209.66  211.02     217.48   -6.46  -2.9704  323043.59  6855967.077\n12   000858.SZ    20200805  215.60  217.76  213.00  217.48     215.80    1.68   0.7785  186712.38  4024536.334\n13   000858.SZ    20200804  217.50  219.80  214.00  215.80     217.72   -1.92  -0.8819  206769.41  4483369.686\n14   000858.SZ    20200803  218.18  219.93  215.20  217.72     217.50    0.22   0.1011  201453.55  4369803.363\n..         ...         ...     ...     ...     ...     ...        ...     ...      ...        ...          ...\n150  000858.SZ    20200108  128.99  129.76  128.05  128.89     129.37   -0.48  -0.3710  161802.18  2083242.871\n151  000858.SZ    20200107  129.50  131.07  129.00  129.37     129.20    0.17   0.1316  223277.93  2901574.233\n152  000858.SZ    20200106  130.00  130.25  128.52  129.20     130.55   -1.35  -1.0341  259369.79  3353682.073\n153  000858.SZ    20200103  131.60  132.07  129.61  130.55     132.08   -1.53  -1.1584  204692.48  2672531.470\n154  000858.SZ    20200102  132.00  133.50  129.59  132.08     133.01   -0.93  -0.6992  306674.39  4038536.854\n\n[65 rows x 11 columns]",
      "text/html": "<div>\n<style scoped>\n    .dataframe tbody tr th:only-of-type {\n        vertical-align: middle;\n    }\n\n    .dataframe tbody tr th {\n        vertical-align: top;\n    }\n\n    .dataframe thead th {\n        text-align: right;\n    }\n</style>\n<table border=\"1\" class=\"dataframe\">\n  <thead>\n    <tr style=\"text-align: right;\">\n      <th></th>\n      <th>ts_code</th>\n      <th>trade_date</th>\n      <th>open</th>\n      <th>high</th>\n      <th>low</th>\n      <th>close</th>\n      <th>pre_close</th>\n      <th>change</th>\n      <th>pct_chg</th>\n      <th>vol</th>\n      <th>amount</th>\n    </tr>\n  </thead>\n  <tbody>\n    <tr>\n      <th>10</th>\n      <td>000858.SZ</td>\n      <td>20200807</td>\n      <td>210.00</td>\n      <td>213.00</td>\n      <td>203.18</td>\n      <td>207.26</td>\n      <td>211.02</td>\n      <td>-3.76</td>\n      <td>-1.7818</td>\n      <td>287235.84</td>\n      <td>5960012.764</td>\n    </tr>\n    <tr>\n      <th>11</th>\n      <td>000858.SZ</td>\n      <td>20200806</td>\n      <td>217.48</td>\n      <td>218.54</td>\n      <td>209.66</td>\n      <td>211.02</td>\n      <td>217.48</td>\n      <td>-6.46</td>\n      <td>-2.9704</td>\n      <td>323043.59</td>\n      <td>6855967.077</td>\n    </tr>\n    <tr>\n      <th>12</th>\n      <td>000858.SZ</td>\n      <td>20200805</td>\n      <td>215.60</td>\n      <td>217.76</td>\n      <td>213.00</td>\n      <td>217.48</td>\n      <td>215.80</td>\n      <td>1.68</td>\n      <td>0.7785</td>\n      <td>186712.38</td>\n      <td>4024536.334</td>\n    </tr>\n    <tr>\n      <th>13</th>\n      <td>000858.SZ</td>\n      <td>20200804</td>\n      <td>217.50</td>\n      <td>219.80</td>\n      <td>214.00</td>\n      <td>215.80</td>\n      <td>217.72</td>\n      <td>-1.92</td>\n      <td>-0.8819</td>\n      <td>206769.41</td>\n      <td>4483369.686</td>\n    </tr>\n    <tr>\n      <th>14</th>\n      <td>000858.SZ</td>\n      <td>20200803</td>\n      <td>218.18</td>\n      <td>219.93</td>\n      <td>215.20</td>\n      <td>217.72</td>\n      <td>217.50</td>\n      <td>0.22</td>\n      <td>0.1011</td>\n      <td>201453.55</td>\n      <td>4369803.363</td>\n    </tr>\n    <tr>\n      <th>...</th>\n      <td>...</td>\n      <td>...</td>\n      <td>...</td>\n      <td>...</td>\n      <td>...</td>\n      <td>...</td>\n      <td>...</td>\n      <td>...</td>\n      <td>...</td>\n      <td>...</td>\n      <td>...</td>\n    </tr>\n    <tr>\n      <th>150</th>\n      <td>000858.SZ</td>\n      <td>20200108</td>\n      <td>128.99</td>\n      <td>129.76</td>\n      <td>128.05</td>\n      <td>128.89</td>\n      <td>129.37</td>\n      <td>-0.48</td>\n      <td>-0.3710</td>\n      <td>161802.18</td>\n      <td>2083242.871</td>\n    </tr>\n    <tr>\n      <th>151</th>\n      <td>000858.SZ</td>\n      <td>20200107</td>\n      <td>129.50</td>\n      <td>131.07</td>\n      <td>129.00</td>\n      <td>129.37</td>\n      <td>129.20</td>\n      <td>0.17</td>\n      <td>0.1316</td>\n      <td>223277.93</td>\n      <td>2901574.233</td>\n    </tr>\n    <tr>\n      <th>152</th>\n      <td>000858.SZ</td>\n      <td>20200106</td>\n      <td>130.00</td>\n      <td>130.25</td>\n      <td>128.52</td>\n      <td>129.20</td>\n      <td>130.55</td>\n      <td>-1.35</td>\n      <td>-1.0341</td>\n      <td>259369.79</td>\n      <td>3353682.073</td>\n    </tr>\n    <tr>\n      <th>153</th>\n      <td>000858.SZ</td>\n      <td>20200103</td>\n      <td>131.60</td>\n      <td>132.07</td>\n      <td>129.61</td>\n      <td>130.55</td>\n      <td>132.08</td>\n      <td>-1.53</td>\n      <td>-1.1584</td>\n      <td>204692.48</td>\n      <td>2672531.470</td>\n    </tr>\n    <tr>\n      <th>154</th>\n      <td>000858.SZ</td>\n      <td>20200102</td>\n      <td>132.00</td>\n      <td>133.50</td>\n      <td>129.59</td>\n      <td>132.08</td>\n      <td>133.01</td>\n      <td>-0.93</td>\n      <td>-0.6992</td>\n      <td>306674.39</td>\n      <td>4038536.854</td>\n    </tr>\n  </tbody>\n</table>\n<p>65 rows × 11 columns</p>\n</div>"
     },
     "execution_count": 51,
     "metadata": {},
     "output_type": "execute_result"
    }
   ],
   "source": [
    "df_source.filter(regex=r'1[0-9]', axis=0) # 从index/columns做正则表达式匹配\n",
    "# 为毛正则表达式取两位数字却把三位的都取出来了????????????????"
   ],
   "metadata": {
    "collapsed": false,
    "pycharm": {
     "name": "#%%\n"
    }
   }
  },
  {
   "cell_type": "markdown",
   "source": [
    "#### Query取数"
   ],
   "metadata": {
    "collapsed": false,
    "pycharm": {
     "name": "#%% md\n"
    }
   }
  },
  {
   "cell_type": "code",
   "execution_count": 55,
   "outputs": [
    {
     "data": {
      "text/plain": "      ts_code  trade_date    open    high     low   close  pre_close  change  pct_chg        vol       amount\n0   000858.SZ    20200821  220.00  220.98  216.44  218.40     216.44    1.96   0.9056  157318.61  3438178.399\n1   000858.SZ    20200820  220.00  220.92  216.00  216.44     222.20   -5.76  -2.5923  184906.63  4022580.052\n2   000858.SZ    20200819  220.47  225.96  217.27  222.20     220.57    1.63   0.7390  238472.68  5300628.768\n3   000858.SZ    20200818  219.99  223.00  218.12  220.57     219.99    0.58   0.2636  190382.49  4208955.657\n4   000858.SZ    20200817  214.50  222.00  214.50  219.99     212.90    7.09   3.3302  315155.99  6913069.145\n..        ...         ...     ...     ...     ...     ...        ...     ...      ...        ...          ...\n57  000858.SZ    20200601  150.06  160.18  150.06  158.59     148.20   10.39   7.0108  357843.58  5624344.618\n63  000858.SZ    20200522  150.76  150.78  143.65  144.25     151.68   -7.43  -4.8985  383526.39  5597327.855\n64  000858.SZ    20200521  151.86  153.53  151.03  151.68     150.85    0.83   0.5502  170921.50  2602103.042\n65  000858.SZ    20200520  152.50  152.98  150.51  150.85     151.42   -0.57  -0.3764  170412.14  2580358.165\n66  000858.SZ    20200519  153.33  153.49  150.37  151.42     151.19    0.23   0.1521  176505.56  2669709.609\n\n[62 rows x 11 columns]",
      "text/html": "<div>\n<style scoped>\n    .dataframe tbody tr th:only-of-type {\n        vertical-align: middle;\n    }\n\n    .dataframe tbody tr th {\n        vertical-align: top;\n    }\n\n    .dataframe thead th {\n        text-align: right;\n    }\n</style>\n<table border=\"1\" class=\"dataframe\">\n  <thead>\n    <tr style=\"text-align: right;\">\n      <th></th>\n      <th>ts_code</th>\n      <th>trade_date</th>\n      <th>open</th>\n      <th>high</th>\n      <th>low</th>\n      <th>close</th>\n      <th>pre_close</th>\n      <th>change</th>\n      <th>pct_chg</th>\n      <th>vol</th>\n      <th>amount</th>\n    </tr>\n  </thead>\n  <tbody>\n    <tr>\n      <th>0</th>\n      <td>000858.SZ</td>\n      <td>20200821</td>\n      <td>220.00</td>\n      <td>220.98</td>\n      <td>216.44</td>\n      <td>218.40</td>\n      <td>216.44</td>\n      <td>1.96</td>\n      <td>0.9056</td>\n      <td>157318.61</td>\n      <td>3438178.399</td>\n    </tr>\n    <tr>\n      <th>1</th>\n      <td>000858.SZ</td>\n      <td>20200820</td>\n      <td>220.00</td>\n      <td>220.92</td>\n      <td>216.00</td>\n      <td>216.44</td>\n      <td>222.20</td>\n      <td>-5.76</td>\n      <td>-2.5923</td>\n      <td>184906.63</td>\n      <td>4022580.052</td>\n    </tr>\n    <tr>\n      <th>2</th>\n      <td>000858.SZ</td>\n      <td>20200819</td>\n      <td>220.47</td>\n      <td>225.96</td>\n      <td>217.27</td>\n      <td>222.20</td>\n      <td>220.57</td>\n      <td>1.63</td>\n      <td>0.7390</td>\n      <td>238472.68</td>\n      <td>5300628.768</td>\n    </tr>\n    <tr>\n      <th>3</th>\n      <td>000858.SZ</td>\n      <td>20200818</td>\n      <td>219.99</td>\n      <td>223.00</td>\n      <td>218.12</td>\n      <td>220.57</td>\n      <td>219.99</td>\n      <td>0.58</td>\n      <td>0.2636</td>\n      <td>190382.49</td>\n      <td>4208955.657</td>\n    </tr>\n    <tr>\n      <th>4</th>\n      <td>000858.SZ</td>\n      <td>20200817</td>\n      <td>214.50</td>\n      <td>222.00</td>\n      <td>214.50</td>\n      <td>219.99</td>\n      <td>212.90</td>\n      <td>7.09</td>\n      <td>3.3302</td>\n      <td>315155.99</td>\n      <td>6913069.145</td>\n    </tr>\n    <tr>\n      <th>...</th>\n      <td>...</td>\n      <td>...</td>\n      <td>...</td>\n      <td>...</td>\n      <td>...</td>\n      <td>...</td>\n      <td>...</td>\n      <td>...</td>\n      <td>...</td>\n      <td>...</td>\n      <td>...</td>\n    </tr>\n    <tr>\n      <th>57</th>\n      <td>000858.SZ</td>\n      <td>20200601</td>\n      <td>150.06</td>\n      <td>160.18</td>\n      <td>150.06</td>\n      <td>158.59</td>\n      <td>148.20</td>\n      <td>10.39</td>\n      <td>7.0108</td>\n      <td>357843.58</td>\n      <td>5624344.618</td>\n    </tr>\n    <tr>\n      <th>63</th>\n      <td>000858.SZ</td>\n      <td>20200522</td>\n      <td>150.76</td>\n      <td>150.78</td>\n      <td>143.65</td>\n      <td>144.25</td>\n      <td>151.68</td>\n      <td>-7.43</td>\n      <td>-4.8985</td>\n      <td>383526.39</td>\n      <td>5597327.855</td>\n    </tr>\n    <tr>\n      <th>64</th>\n      <td>000858.SZ</td>\n      <td>20200521</td>\n      <td>151.86</td>\n      <td>153.53</td>\n      <td>151.03</td>\n      <td>151.68</td>\n      <td>150.85</td>\n      <td>0.83</td>\n      <td>0.5502</td>\n      <td>170921.50</td>\n      <td>2602103.042</td>\n    </tr>\n    <tr>\n      <th>65</th>\n      <td>000858.SZ</td>\n      <td>20200520</td>\n      <td>152.50</td>\n      <td>152.98</td>\n      <td>150.51</td>\n      <td>150.85</td>\n      <td>151.42</td>\n      <td>-0.57</td>\n      <td>-0.3764</td>\n      <td>170412.14</td>\n      <td>2580358.165</td>\n    </tr>\n    <tr>\n      <th>66</th>\n      <td>000858.SZ</td>\n      <td>20200519</td>\n      <td>153.33</td>\n      <td>153.49</td>\n      <td>150.37</td>\n      <td>151.42</td>\n      <td>151.19</td>\n      <td>0.23</td>\n      <td>0.1521</td>\n      <td>176505.56</td>\n      <td>2669709.609</td>\n    </tr>\n  </tbody>\n</table>\n<p>62 rows × 11 columns</p>\n</div>"
     },
     "execution_count": 55,
     "metadata": {},
     "output_type": "execute_result"
    }
   ],
   "source": [
    "df_source.query('open > 150')"
   ],
   "metadata": {
    "collapsed": false,
    "pycharm": {
     "name": "#%%\n"
    }
   }
  },
  {
   "cell_type": "code",
   "execution_count": 57,
   "outputs": [
    {
     "name": "stdout",
     "output_type": "stream",
     "text": [
      "<class 'pandas.core.frame.DataFrame'>\n",
      "Int64Index: 50 entries, 0 to 53\n",
      "Data columns (total 11 columns):\n",
      " #   Column      Non-Null Count  Dtype  \n",
      "---  ------      --------------  -----  \n",
      " 0   ts_code     50 non-null     object \n",
      " 1   trade_date  50 non-null     int64  \n",
      " 2   open        50 non-null     float64\n",
      " 3   high        50 non-null     float64\n",
      " 4   low         50 non-null     float64\n",
      " 5   close       50 non-null     float64\n",
      " 6   pre_close   50 non-null     float64\n",
      " 7   change      50 non-null     float64\n",
      " 8   pct_chg     50 non-null     float64\n",
      " 9   vol         50 non-null     float64\n",
      " 10  amount      50 non-null     float64\n",
      "dtypes: float64(9), int64(1), object(1)\n",
      "memory usage: 4.7+ KB\n"
     ]
    }
   ],
   "source": [
    "df_source.query('open > 150' and 'close > 160').info()"
   ],
   "metadata": {
    "collapsed": false,
    "pycharm": {
     "name": "#%%\n"
    }
   }
  },
  {
   "cell_type": "code",
   "execution_count": 61,
   "outputs": [
    {
     "data": {
      "text/plain": "       ts_code  trade_date    open    high     low   close  pre_close  change  pct_chg        vol       amount\n0    000858.SZ    20200821  220.00  220.98  216.44  218.40     216.44    1.96   0.9056  157318.61  3438178.399\n1    000858.SZ    20200820  220.00  220.92  216.00  216.44     222.20   -5.76  -2.5923  184906.63  4022580.052\n2    000858.SZ    20200819  220.47  225.96  217.27  222.20     220.57    1.63   0.7390  238472.68  5300628.768\n3    000858.SZ    20200818  219.99  223.00  218.12  220.57     219.99    0.58   0.2636  190382.49  4208955.657\n4    000858.SZ    20200817  214.50  222.00  214.50  219.99     212.90    7.09   3.3302  315155.99  6913069.145\n..         ...         ...     ...     ...     ...     ...        ...     ...      ...        ...          ...\n150  000858.SZ    20200108  128.99  129.76  128.05  128.89     129.37   -0.48  -0.3710  161802.18  2083242.871\n151  000858.SZ    20200107  129.50  131.07  129.00  129.37     129.20    0.17   0.1316  223277.93  2901574.233\n152  000858.SZ    20200106  130.00  130.25  128.52  129.20     130.55   -1.35  -1.0341  259369.79  3353682.073\n153  000858.SZ    20200103  131.60  132.07  129.61  130.55     132.08   -1.53  -1.1584  204692.48  2672531.470\n154  000858.SZ    20200102  132.00  133.50  129.59  132.08     133.01   -0.93  -0.6992  306674.39  4038536.854\n\n[155 rows x 11 columns]",
      "text/html": "<div>\n<style scoped>\n    .dataframe tbody tr th:only-of-type {\n        vertical-align: middle;\n    }\n\n    .dataframe tbody tr th {\n        vertical-align: top;\n    }\n\n    .dataframe thead th {\n        text-align: right;\n    }\n</style>\n<table border=\"1\" class=\"dataframe\">\n  <thead>\n    <tr style=\"text-align: right;\">\n      <th></th>\n      <th>ts_code</th>\n      <th>trade_date</th>\n      <th>open</th>\n      <th>high</th>\n      <th>low</th>\n      <th>close</th>\n      <th>pre_close</th>\n      <th>change</th>\n      <th>pct_chg</th>\n      <th>vol</th>\n      <th>amount</th>\n    </tr>\n  </thead>\n  <tbody>\n    <tr>\n      <th>0</th>\n      <td>000858.SZ</td>\n      <td>20200821</td>\n      <td>220.00</td>\n      <td>220.98</td>\n      <td>216.44</td>\n      <td>218.40</td>\n      <td>216.44</td>\n      <td>1.96</td>\n      <td>0.9056</td>\n      <td>157318.61</td>\n      <td>3438178.399</td>\n    </tr>\n    <tr>\n      <th>1</th>\n      <td>000858.SZ</td>\n      <td>20200820</td>\n      <td>220.00</td>\n      <td>220.92</td>\n      <td>216.00</td>\n      <td>216.44</td>\n      <td>222.20</td>\n      <td>-5.76</td>\n      <td>-2.5923</td>\n      <td>184906.63</td>\n      <td>4022580.052</td>\n    </tr>\n    <tr>\n      <th>2</th>\n      <td>000858.SZ</td>\n      <td>20200819</td>\n      <td>220.47</td>\n      <td>225.96</td>\n      <td>217.27</td>\n      <td>222.20</td>\n      <td>220.57</td>\n      <td>1.63</td>\n      <td>0.7390</td>\n      <td>238472.68</td>\n      <td>5300628.768</td>\n    </tr>\n    <tr>\n      <th>3</th>\n      <td>000858.SZ</td>\n      <td>20200818</td>\n      <td>219.99</td>\n      <td>223.00</td>\n      <td>218.12</td>\n      <td>220.57</td>\n      <td>219.99</td>\n      <td>0.58</td>\n      <td>0.2636</td>\n      <td>190382.49</td>\n      <td>4208955.657</td>\n    </tr>\n    <tr>\n      <th>4</th>\n      <td>000858.SZ</td>\n      <td>20200817</td>\n      <td>214.50</td>\n      <td>222.00</td>\n      <td>214.50</td>\n      <td>219.99</td>\n      <td>212.90</td>\n      <td>7.09</td>\n      <td>3.3302</td>\n      <td>315155.99</td>\n      <td>6913069.145</td>\n    </tr>\n    <tr>\n      <th>...</th>\n      <td>...</td>\n      <td>...</td>\n      <td>...</td>\n      <td>...</td>\n      <td>...</td>\n      <td>...</td>\n      <td>...</td>\n      <td>...</td>\n      <td>...</td>\n      <td>...</td>\n      <td>...</td>\n    </tr>\n    <tr>\n      <th>150</th>\n      <td>000858.SZ</td>\n      <td>20200108</td>\n      <td>128.99</td>\n      <td>129.76</td>\n      <td>128.05</td>\n      <td>128.89</td>\n      <td>129.37</td>\n      <td>-0.48</td>\n      <td>-0.3710</td>\n      <td>161802.18</td>\n      <td>2083242.871</td>\n    </tr>\n    <tr>\n      <th>151</th>\n      <td>000858.SZ</td>\n      <td>20200107</td>\n      <td>129.50</td>\n      <td>131.07</td>\n      <td>129.00</td>\n      <td>129.37</td>\n      <td>129.20</td>\n      <td>0.17</td>\n      <td>0.1316</td>\n      <td>223277.93</td>\n      <td>2901574.233</td>\n    </tr>\n    <tr>\n      <th>152</th>\n      <td>000858.SZ</td>\n      <td>20200106</td>\n      <td>130.00</td>\n      <td>130.25</td>\n      <td>128.52</td>\n      <td>129.20</td>\n      <td>130.55</td>\n      <td>-1.35</td>\n      <td>-1.0341</td>\n      <td>259369.79</td>\n      <td>3353682.073</td>\n    </tr>\n    <tr>\n      <th>153</th>\n      <td>000858.SZ</td>\n      <td>20200103</td>\n      <td>131.60</td>\n      <td>132.07</td>\n      <td>129.61</td>\n      <td>130.55</td>\n      <td>132.08</td>\n      <td>-1.53</td>\n      <td>-1.1584</td>\n      <td>204692.48</td>\n      <td>2672531.470</td>\n    </tr>\n    <tr>\n      <th>154</th>\n      <td>000858.SZ</td>\n      <td>20200102</td>\n      <td>132.00</td>\n      <td>133.50</td>\n      <td>129.59</td>\n      <td>132.08</td>\n      <td>133.01</td>\n      <td>-0.93</td>\n      <td>-0.6992</td>\n      <td>306674.39</td>\n      <td>4038536.854</td>\n    </tr>\n  </tbody>\n</table>\n<p>155 rows × 11 columns</p>\n</div>"
     },
     "execution_count": 61,
     "metadata": {},
     "output_type": "execute_result"
    }
   ],
   "source": [
    "df_source.query('ts_code.str.endswith(r\".SZ\")', engine='python')"
   ],
   "metadata": {
    "collapsed": false,
    "pycharm": {
     "name": "#%%\n"
    }
   }
  },
  {
   "cell_type": "markdown",
   "source": [
    "#### 行列通用操作"
   ],
   "metadata": {
    "collapsed": false,
    "pycharm": {
     "name": "#%% md\n"
    }
   }
  },
  {
   "cell_type": "code",
   "execution_count": 62,
   "outputs": [
    {
     "data": {
      "text/plain": "      ts_code  trade_date    open    high     low   close  pre_close  change  pct_chg        vol       amount\n10  000858.SZ    20200807  210.00  213.00  203.18  207.26     211.02   -3.76  -1.7818  287235.84  5960012.764\n11  000858.SZ    20200806  217.48  218.54  209.66  211.02     217.48   -6.46  -2.9704  323043.59  6855967.077\n12  000858.SZ    20200805  215.60  217.76  213.00  217.48     215.80    1.68   0.7785  186712.38  4024536.334\n13  000858.SZ    20200804  217.50  219.80  214.00  215.80     217.72   -1.92  -0.8819  206769.41  4483369.686\n14  000858.SZ    20200803  218.18  219.93  215.20  217.72     217.50    0.22   0.1011  201453.55  4369803.363\n15  000858.SZ    20200731  216.51  221.01  214.28  217.50     216.32    1.18   0.5455  262317.82  5707639.443\n16  000858.SZ    20200730  214.00  218.05  213.00  216.32     214.98    1.34   0.6233  253225.64  5483434.280\n17  000858.SZ    20200729  214.35  215.48  209.01  214.98     214.00    0.98   0.4579  301364.14  6417584.055\n18  000858.SZ    20200728  205.89  216.94  204.67  214.00     204.10    9.90   4.8506  384497.12  8143034.019\n19  000858.SZ    20200727  203.39  206.80  201.41  204.10     201.39    2.71   1.3456  246346.88  5038945.709",
      "text/html": "<div>\n<style scoped>\n    .dataframe tbody tr th:only-of-type {\n        vertical-align: middle;\n    }\n\n    .dataframe tbody tr th {\n        vertical-align: top;\n    }\n\n    .dataframe thead th {\n        text-align: right;\n    }\n</style>\n<table border=\"1\" class=\"dataframe\">\n  <thead>\n    <tr style=\"text-align: right;\">\n      <th></th>\n      <th>ts_code</th>\n      <th>trade_date</th>\n      <th>open</th>\n      <th>high</th>\n      <th>low</th>\n      <th>close</th>\n      <th>pre_close</th>\n      <th>change</th>\n      <th>pct_chg</th>\n      <th>vol</th>\n      <th>amount</th>\n    </tr>\n  </thead>\n  <tbody>\n    <tr>\n      <th>10</th>\n      <td>000858.SZ</td>\n      <td>20200807</td>\n      <td>210.00</td>\n      <td>213.00</td>\n      <td>203.18</td>\n      <td>207.26</td>\n      <td>211.02</td>\n      <td>-3.76</td>\n      <td>-1.7818</td>\n      <td>287235.84</td>\n      <td>5960012.764</td>\n    </tr>\n    <tr>\n      <th>11</th>\n      <td>000858.SZ</td>\n      <td>20200806</td>\n      <td>217.48</td>\n      <td>218.54</td>\n      <td>209.66</td>\n      <td>211.02</td>\n      <td>217.48</td>\n      <td>-6.46</td>\n      <td>-2.9704</td>\n      <td>323043.59</td>\n      <td>6855967.077</td>\n    </tr>\n    <tr>\n      <th>12</th>\n      <td>000858.SZ</td>\n      <td>20200805</td>\n      <td>215.60</td>\n      <td>217.76</td>\n      <td>213.00</td>\n      <td>217.48</td>\n      <td>215.80</td>\n      <td>1.68</td>\n      <td>0.7785</td>\n      <td>186712.38</td>\n      <td>4024536.334</td>\n    </tr>\n    <tr>\n      <th>13</th>\n      <td>000858.SZ</td>\n      <td>20200804</td>\n      <td>217.50</td>\n      <td>219.80</td>\n      <td>214.00</td>\n      <td>215.80</td>\n      <td>217.72</td>\n      <td>-1.92</td>\n      <td>-0.8819</td>\n      <td>206769.41</td>\n      <td>4483369.686</td>\n    </tr>\n    <tr>\n      <th>14</th>\n      <td>000858.SZ</td>\n      <td>20200803</td>\n      <td>218.18</td>\n      <td>219.93</td>\n      <td>215.20</td>\n      <td>217.72</td>\n      <td>217.50</td>\n      <td>0.22</td>\n      <td>0.1011</td>\n      <td>201453.55</td>\n      <td>4369803.363</td>\n    </tr>\n    <tr>\n      <th>15</th>\n      <td>000858.SZ</td>\n      <td>20200731</td>\n      <td>216.51</td>\n      <td>221.01</td>\n      <td>214.28</td>\n      <td>217.50</td>\n      <td>216.32</td>\n      <td>1.18</td>\n      <td>0.5455</td>\n      <td>262317.82</td>\n      <td>5707639.443</td>\n    </tr>\n    <tr>\n      <th>16</th>\n      <td>000858.SZ</td>\n      <td>20200730</td>\n      <td>214.00</td>\n      <td>218.05</td>\n      <td>213.00</td>\n      <td>216.32</td>\n      <td>214.98</td>\n      <td>1.34</td>\n      <td>0.6233</td>\n      <td>253225.64</td>\n      <td>5483434.280</td>\n    </tr>\n    <tr>\n      <th>17</th>\n      <td>000858.SZ</td>\n      <td>20200729</td>\n      <td>214.35</td>\n      <td>215.48</td>\n      <td>209.01</td>\n      <td>214.98</td>\n      <td>214.00</td>\n      <td>0.98</td>\n      <td>0.4579</td>\n      <td>301364.14</td>\n      <td>6417584.055</td>\n    </tr>\n    <tr>\n      <th>18</th>\n      <td>000858.SZ</td>\n      <td>20200728</td>\n      <td>205.89</td>\n      <td>216.94</td>\n      <td>204.67</td>\n      <td>214.00</td>\n      <td>204.10</td>\n      <td>9.90</td>\n      <td>4.8506</td>\n      <td>384497.12</td>\n      <td>8143034.019</td>\n    </tr>\n    <tr>\n      <th>19</th>\n      <td>000858.SZ</td>\n      <td>20200727</td>\n      <td>203.39</td>\n      <td>206.80</td>\n      <td>201.41</td>\n      <td>204.10</td>\n      <td>201.39</td>\n      <td>2.71</td>\n      <td>1.3456</td>\n      <td>246346.88</td>\n      <td>5038945.709</td>\n    </tr>\n  </tbody>\n</table>\n</div>"
     },
     "execution_count": 62,
     "metadata": {},
     "output_type": "execute_result"
    }
   ],
   "source": [
    "df_source.iloc[10:20]"
   ],
   "metadata": {
    "collapsed": false,
    "pycharm": {
     "name": "#%%\n"
    }
   }
  },
  {
   "cell_type": "code",
   "execution_count": 65,
   "outputs": [
    {
     "data": {
      "text/plain": "      ts_code  trade_date    open    high     low\n10  000858.SZ    20200807  210.00  213.00  203.18\n11  000858.SZ    20200806  217.48  218.54  209.66\n12  000858.SZ    20200805  215.60  217.76  213.00\n13  000858.SZ    20200804  217.50  219.80  214.00\n14  000858.SZ    20200803  218.18  219.93  215.20\n15  000858.SZ    20200731  216.51  221.01  214.28\n16  000858.SZ    20200730  214.00  218.05  213.00\n17  000858.SZ    20200729  214.35  215.48  209.01\n18  000858.SZ    20200728  205.89  216.94  204.67\n19  000858.SZ    20200727  203.39  206.80  201.41",
      "text/html": "<div>\n<style scoped>\n    .dataframe tbody tr th:only-of-type {\n        vertical-align: middle;\n    }\n\n    .dataframe tbody tr th {\n        vertical-align: top;\n    }\n\n    .dataframe thead th {\n        text-align: right;\n    }\n</style>\n<table border=\"1\" class=\"dataframe\">\n  <thead>\n    <tr style=\"text-align: right;\">\n      <th></th>\n      <th>ts_code</th>\n      <th>trade_date</th>\n      <th>open</th>\n      <th>high</th>\n      <th>low</th>\n    </tr>\n  </thead>\n  <tbody>\n    <tr>\n      <th>10</th>\n      <td>000858.SZ</td>\n      <td>20200807</td>\n      <td>210.00</td>\n      <td>213.00</td>\n      <td>203.18</td>\n    </tr>\n    <tr>\n      <th>11</th>\n      <td>000858.SZ</td>\n      <td>20200806</td>\n      <td>217.48</td>\n      <td>218.54</td>\n      <td>209.66</td>\n    </tr>\n    <tr>\n      <th>12</th>\n      <td>000858.SZ</td>\n      <td>20200805</td>\n      <td>215.60</td>\n      <td>217.76</td>\n      <td>213.00</td>\n    </tr>\n    <tr>\n      <th>13</th>\n      <td>000858.SZ</td>\n      <td>20200804</td>\n      <td>217.50</td>\n      <td>219.80</td>\n      <td>214.00</td>\n    </tr>\n    <tr>\n      <th>14</th>\n      <td>000858.SZ</td>\n      <td>20200803</td>\n      <td>218.18</td>\n      <td>219.93</td>\n      <td>215.20</td>\n    </tr>\n    <tr>\n      <th>15</th>\n      <td>000858.SZ</td>\n      <td>20200731</td>\n      <td>216.51</td>\n      <td>221.01</td>\n      <td>214.28</td>\n    </tr>\n    <tr>\n      <th>16</th>\n      <td>000858.SZ</td>\n      <td>20200730</td>\n      <td>214.00</td>\n      <td>218.05</td>\n      <td>213.00</td>\n    </tr>\n    <tr>\n      <th>17</th>\n      <td>000858.SZ</td>\n      <td>20200729</td>\n      <td>214.35</td>\n      <td>215.48</td>\n      <td>209.01</td>\n    </tr>\n    <tr>\n      <th>18</th>\n      <td>000858.SZ</td>\n      <td>20200728</td>\n      <td>205.89</td>\n      <td>216.94</td>\n      <td>204.67</td>\n    </tr>\n    <tr>\n      <th>19</th>\n      <td>000858.SZ</td>\n      <td>20200727</td>\n      <td>203.39</td>\n      <td>206.80</td>\n      <td>201.41</td>\n    </tr>\n  </tbody>\n</table>\n</div>"
     },
     "execution_count": 65,
     "metadata": {},
     "output_type": "execute_result"
    }
   ],
   "source": [
    "df_source.iloc[10:20, 0:5] #也可以这样 [10:20, [1,2,5,7]"
   ],
   "metadata": {
    "collapsed": false,
    "pycharm": {
     "name": "#%%\n"
    }
   }
  },
  {
   "cell_type": "code",
   "execution_count": 66,
   "outputs": [
    {
     "data": {
      "text/plain": "      ts_code  trade_date    open    high     low\n10  000858.SZ    20200807  210.00  213.00  203.18\n11  000858.SZ    20200806  217.48  218.54  209.66\n12  000858.SZ    20200805  215.60  217.76  213.00\n13  000858.SZ    20200804  217.50  219.80  214.00\n14  000858.SZ    20200803  218.18  219.93  215.20\n15  000858.SZ    20200731  216.51  221.01  214.28\n16  000858.SZ    20200730  214.00  218.05  213.00\n17  000858.SZ    20200729  214.35  215.48  209.01\n18  000858.SZ    20200728  205.89  216.94  204.67\n19  000858.SZ    20200727  203.39  206.80  201.41\n20  000858.SZ    20200724  208.00  208.95  198.00",
      "text/html": "<div>\n<style scoped>\n    .dataframe tbody tr th:only-of-type {\n        vertical-align: middle;\n    }\n\n    .dataframe tbody tr th {\n        vertical-align: top;\n    }\n\n    .dataframe thead th {\n        text-align: right;\n    }\n</style>\n<table border=\"1\" class=\"dataframe\">\n  <thead>\n    <tr style=\"text-align: right;\">\n      <th></th>\n      <th>ts_code</th>\n      <th>trade_date</th>\n      <th>open</th>\n      <th>high</th>\n      <th>low</th>\n    </tr>\n  </thead>\n  <tbody>\n    <tr>\n      <th>10</th>\n      <td>000858.SZ</td>\n      <td>20200807</td>\n      <td>210.00</td>\n      <td>213.00</td>\n      <td>203.18</td>\n    </tr>\n    <tr>\n      <th>11</th>\n      <td>000858.SZ</td>\n      <td>20200806</td>\n      <td>217.48</td>\n      <td>218.54</td>\n      <td>209.66</td>\n    </tr>\n    <tr>\n      <th>12</th>\n      <td>000858.SZ</td>\n      <td>20200805</td>\n      <td>215.60</td>\n      <td>217.76</td>\n      <td>213.00</td>\n    </tr>\n    <tr>\n      <th>13</th>\n      <td>000858.SZ</td>\n      <td>20200804</td>\n      <td>217.50</td>\n      <td>219.80</td>\n      <td>214.00</td>\n    </tr>\n    <tr>\n      <th>14</th>\n      <td>000858.SZ</td>\n      <td>20200803</td>\n      <td>218.18</td>\n      <td>219.93</td>\n      <td>215.20</td>\n    </tr>\n    <tr>\n      <th>15</th>\n      <td>000858.SZ</td>\n      <td>20200731</td>\n      <td>216.51</td>\n      <td>221.01</td>\n      <td>214.28</td>\n    </tr>\n    <tr>\n      <th>16</th>\n      <td>000858.SZ</td>\n      <td>20200730</td>\n      <td>214.00</td>\n      <td>218.05</td>\n      <td>213.00</td>\n    </tr>\n    <tr>\n      <th>17</th>\n      <td>000858.SZ</td>\n      <td>20200729</td>\n      <td>214.35</td>\n      <td>215.48</td>\n      <td>209.01</td>\n    </tr>\n    <tr>\n      <th>18</th>\n      <td>000858.SZ</td>\n      <td>20200728</td>\n      <td>205.89</td>\n      <td>216.94</td>\n      <td>204.67</td>\n    </tr>\n    <tr>\n      <th>19</th>\n      <td>000858.SZ</td>\n      <td>20200727</td>\n      <td>203.39</td>\n      <td>206.80</td>\n      <td>201.41</td>\n    </tr>\n    <tr>\n      <th>20</th>\n      <td>000858.SZ</td>\n      <td>20200724</td>\n      <td>208.00</td>\n      <td>208.95</td>\n      <td>198.00</td>\n    </tr>\n  </tbody>\n</table>\n</div>"
     },
     "execution_count": 66,
     "metadata": {},
     "output_type": "execute_result"
    }
   ],
   "source": [
    "df_source.loc[10:20, 'ts_code':'low'] # 也可以这样 [10:20, ['ts_code','high','low']]"
   ],
   "metadata": {
    "collapsed": false,
    "pycharm": {
     "name": "#%%\n"
    }
   }
  },
  {
   "cell_type": "code",
   "execution_count": 67,
   "outputs": [
    {
     "data": {
      "text/plain": "      ts_code    open\n0   000858.SZ  220.00\n1   000858.SZ  220.00\n2   000858.SZ  220.47\n3   000858.SZ  219.99\n4   000858.SZ  214.50\n..        ...     ...\n57  000858.SZ  150.06\n63  000858.SZ  150.76\n64  000858.SZ  151.86\n65  000858.SZ  152.50\n66  000858.SZ  153.33\n\n[62 rows x 2 columns]",
      "text/html": "<div>\n<style scoped>\n    .dataframe tbody tr th:only-of-type {\n        vertical-align: middle;\n    }\n\n    .dataframe tbody tr th {\n        vertical-align: top;\n    }\n\n    .dataframe thead th {\n        text-align: right;\n    }\n</style>\n<table border=\"1\" class=\"dataframe\">\n  <thead>\n    <tr style=\"text-align: right;\">\n      <th></th>\n      <th>ts_code</th>\n      <th>open</th>\n    </tr>\n  </thead>\n  <tbody>\n    <tr>\n      <th>0</th>\n      <td>000858.SZ</td>\n      <td>220.00</td>\n    </tr>\n    <tr>\n      <th>1</th>\n      <td>000858.SZ</td>\n      <td>220.00</td>\n    </tr>\n    <tr>\n      <th>2</th>\n      <td>000858.SZ</td>\n      <td>220.47</td>\n    </tr>\n    <tr>\n      <th>3</th>\n      <td>000858.SZ</td>\n      <td>219.99</td>\n    </tr>\n    <tr>\n      <th>4</th>\n      <td>000858.SZ</td>\n      <td>214.50</td>\n    </tr>\n    <tr>\n      <th>...</th>\n      <td>...</td>\n      <td>...</td>\n    </tr>\n    <tr>\n      <th>57</th>\n      <td>000858.SZ</td>\n      <td>150.06</td>\n    </tr>\n    <tr>\n      <th>63</th>\n      <td>000858.SZ</td>\n      <td>150.76</td>\n    </tr>\n    <tr>\n      <th>64</th>\n      <td>000858.SZ</td>\n      <td>151.86</td>\n    </tr>\n    <tr>\n      <th>65</th>\n      <td>000858.SZ</td>\n      <td>152.50</td>\n    </tr>\n    <tr>\n      <th>66</th>\n      <td>000858.SZ</td>\n      <td>153.33</td>\n    </tr>\n  </tbody>\n</table>\n<p>62 rows × 2 columns</p>\n</div>"
     },
     "execution_count": 67,
     "metadata": {},
     "output_type": "execute_result"
    }
   ],
   "source": [
    "df_source.loc[df_source['open'] > 150, ['ts_code','open']]"
   ],
   "metadata": {
    "collapsed": false,
    "pycharm": {
     "name": "#%%\n"
    }
   }
  },
  {
   "cell_type": "code",
   "execution_count": 70,
   "outputs": [
    {
     "data": {
      "text/plain": "'000858.SZ'"
     },
     "execution_count": 70,
     "metadata": {},
     "output_type": "execute_result"
    }
   ],
   "source": [
    "df_source.iat[0,0] # Access single value by index"
   ],
   "metadata": {
    "collapsed": false,
    "pycharm": {
     "name": "#%%\n"
    }
   }
  },
  {
   "cell_type": "code",
   "execution_count": 69,
   "outputs": [
    {
     "data": {
      "text/plain": "'000858.SZ'"
     },
     "execution_count": 69,
     "metadata": {},
     "output_type": "execute_result"
    }
   ],
   "source": [
    "df_source.at[0,'ts_code'] # Access single value by label"
   ],
   "metadata": {
    "collapsed": false,
    "pycharm": {
     "name": "#%%\n"
    }
   }
  },
  {
   "cell_type": "markdown",
   "source": [
    "#### 数据重塑"
   ],
   "metadata": {
    "collapsed": false,
    "pycharm": {
     "name": "#%% md\n"
    }
   }
  },
  {
   "cell_type": "code",
   "execution_count": 80,
   "outputs": [
    {
     "data": {
      "text/plain": "        ts_code  trade_date  p_type        price\n0     000858.SZ    20200821    open      220.000\n1     000858.SZ    20200820    open      220.000\n2     000858.SZ    20200819    open      220.470\n3     000858.SZ    20200818    open      219.990\n4     000858.SZ    20200817    open      214.500\n...         ...         ...     ...          ...\n1390  000858.SZ    20200108  amount  2083242.871\n1391  000858.SZ    20200107  amount  2901574.233\n1392  000858.SZ    20200106  amount  3353682.073\n1393  000858.SZ    20200103  amount  2672531.470\n1394  000858.SZ    20200102  amount  4038536.854\n\n[1395 rows x 4 columns]",
      "text/html": "<div>\n<style scoped>\n    .dataframe tbody tr th:only-of-type {\n        vertical-align: middle;\n    }\n\n    .dataframe tbody tr th {\n        vertical-align: top;\n    }\n\n    .dataframe thead th {\n        text-align: right;\n    }\n</style>\n<table border=\"1\" class=\"dataframe\">\n  <thead>\n    <tr style=\"text-align: right;\">\n      <th></th>\n      <th>ts_code</th>\n      <th>trade_date</th>\n      <th>p_type</th>\n      <th>price</th>\n    </tr>\n  </thead>\n  <tbody>\n    <tr>\n      <th>0</th>\n      <td>000858.SZ</td>\n      <td>20200821</td>\n      <td>open</td>\n      <td>220.000</td>\n    </tr>\n    <tr>\n      <th>1</th>\n      <td>000858.SZ</td>\n      <td>20200820</td>\n      <td>open</td>\n      <td>220.000</td>\n    </tr>\n    <tr>\n      <th>2</th>\n      <td>000858.SZ</td>\n      <td>20200819</td>\n      <td>open</td>\n      <td>220.470</td>\n    </tr>\n    <tr>\n      <th>3</th>\n      <td>000858.SZ</td>\n      <td>20200818</td>\n      <td>open</td>\n      <td>219.990</td>\n    </tr>\n    <tr>\n      <th>4</th>\n      <td>000858.SZ</td>\n      <td>20200817</td>\n      <td>open</td>\n      <td>214.500</td>\n    </tr>\n    <tr>\n      <th>...</th>\n      <td>...</td>\n      <td>...</td>\n      <td>...</td>\n      <td>...</td>\n    </tr>\n    <tr>\n      <th>1390</th>\n      <td>000858.SZ</td>\n      <td>20200108</td>\n      <td>amount</td>\n      <td>2083242.871</td>\n    </tr>\n    <tr>\n      <th>1391</th>\n      <td>000858.SZ</td>\n      <td>20200107</td>\n      <td>amount</td>\n      <td>2901574.233</td>\n    </tr>\n    <tr>\n      <th>1392</th>\n      <td>000858.SZ</td>\n      <td>20200106</td>\n      <td>amount</td>\n      <td>3353682.073</td>\n    </tr>\n    <tr>\n      <th>1393</th>\n      <td>000858.SZ</td>\n      <td>20200103</td>\n      <td>amount</td>\n      <td>2672531.470</td>\n    </tr>\n    <tr>\n      <th>1394</th>\n      <td>000858.SZ</td>\n      <td>20200102</td>\n      <td>amount</td>\n      <td>4038536.854</td>\n    </tr>\n  </tbody>\n</table>\n<p>1395 rows × 4 columns</p>\n</div>"
     },
     "execution_count": 80,
     "metadata": {},
     "output_type": "execute_result"
    }
   ],
   "source": [
    "# 解析透视表格式到原始数据格式\n",
    "df_melt = df_source.melt(id_vars = ['ts_code','trade_date'], var_name='p_type', value_name='price')\n",
    "df_melt\n",
    "#value_vars=['open','high','low','close','pre_close','change','pct_chg','vol','amount'])"
   ],
   "metadata": {
    "collapsed": false,
    "pycharm": {
     "name": "#%%\n"
    }
   }
  },
  {
   "cell_type": "code",
   "execution_count": 89,
   "outputs": [
    {
     "data": {
      "text/plain": "p_type                     amount  change   close    high     low    open  pct_chg  pre_close        vol\nts_code   trade_date                                                                                    \n000858.SZ 20200102    4038536.854   -0.93  132.08  133.50  129.59  132.00  -0.6992     133.01  306674.39\n          20200103    2672531.470   -1.53  130.55  132.07  129.61  131.60  -1.1584     132.08  204692.48\n          20200106    3353682.073   -1.35  129.20  130.25  128.52  130.00  -1.0341     130.55  259369.79\n          20200107    2901574.233    0.17  129.37  131.07  129.00  129.50   0.1316     129.20  223277.93\n          20200108    2083242.871   -0.48  128.89  129.76  128.05  128.99  -0.3710     129.37  161802.18\n...                           ...     ...     ...     ...     ...     ...      ...        ...        ...\n          20200817    6913069.145    7.09  219.99  222.00  214.50  214.50   3.3302     212.90  315155.99\n          20200818    4208955.657    0.58  220.57  223.00  218.12  219.99   0.2636     219.99  190382.49\n          20200819    5300628.768    1.63  222.20  225.96  217.27  220.47   0.7390     220.57  238472.68\n          20200820    4022580.052   -5.76  216.44  220.92  216.00  220.00  -2.5923     222.20  184906.63\n          20200821    3438178.399    1.96  218.40  220.98  216.44  220.00   0.9056     216.44  157318.61\n\n[155 rows x 9 columns]",
      "text/html": "<div>\n<style scoped>\n    .dataframe tbody tr th:only-of-type {\n        vertical-align: middle;\n    }\n\n    .dataframe tbody tr th {\n        vertical-align: top;\n    }\n\n    .dataframe thead th {\n        text-align: right;\n    }\n</style>\n<table border=\"1\" class=\"dataframe\">\n  <thead>\n    <tr style=\"text-align: right;\">\n      <th></th>\n      <th>p_type</th>\n      <th>amount</th>\n      <th>change</th>\n      <th>close</th>\n      <th>high</th>\n      <th>low</th>\n      <th>open</th>\n      <th>pct_chg</th>\n      <th>pre_close</th>\n      <th>vol</th>\n    </tr>\n    <tr>\n      <th>ts_code</th>\n      <th>trade_date</th>\n      <th></th>\n      <th></th>\n      <th></th>\n      <th></th>\n      <th></th>\n      <th></th>\n      <th></th>\n      <th></th>\n      <th></th>\n    </tr>\n  </thead>\n  <tbody>\n    <tr>\n      <th rowspan=\"11\" valign=\"top\">000858.SZ</th>\n      <th>20200102</th>\n      <td>4038536.854</td>\n      <td>-0.93</td>\n      <td>132.08</td>\n      <td>133.50</td>\n      <td>129.59</td>\n      <td>132.00</td>\n      <td>-0.6992</td>\n      <td>133.01</td>\n      <td>306674.39</td>\n    </tr>\n    <tr>\n      <th>20200103</th>\n      <td>2672531.470</td>\n      <td>-1.53</td>\n      <td>130.55</td>\n      <td>132.07</td>\n      <td>129.61</td>\n      <td>131.60</td>\n      <td>-1.1584</td>\n      <td>132.08</td>\n      <td>204692.48</td>\n    </tr>\n    <tr>\n      <th>20200106</th>\n      <td>3353682.073</td>\n      <td>-1.35</td>\n      <td>129.20</td>\n      <td>130.25</td>\n      <td>128.52</td>\n      <td>130.00</td>\n      <td>-1.0341</td>\n      <td>130.55</td>\n      <td>259369.79</td>\n    </tr>\n    <tr>\n      <th>20200107</th>\n      <td>2901574.233</td>\n      <td>0.17</td>\n      <td>129.37</td>\n      <td>131.07</td>\n      <td>129.00</td>\n      <td>129.50</td>\n      <td>0.1316</td>\n      <td>129.20</td>\n      <td>223277.93</td>\n    </tr>\n    <tr>\n      <th>20200108</th>\n      <td>2083242.871</td>\n      <td>-0.48</td>\n      <td>128.89</td>\n      <td>129.76</td>\n      <td>128.05</td>\n      <td>128.99</td>\n      <td>-0.3710</td>\n      <td>129.37</td>\n      <td>161802.18</td>\n    </tr>\n    <tr>\n      <th>...</th>\n      <td>...</td>\n      <td>...</td>\n      <td>...</td>\n      <td>...</td>\n      <td>...</td>\n      <td>...</td>\n      <td>...</td>\n      <td>...</td>\n      <td>...</td>\n    </tr>\n    <tr>\n      <th>20200817</th>\n      <td>6913069.145</td>\n      <td>7.09</td>\n      <td>219.99</td>\n      <td>222.00</td>\n      <td>214.50</td>\n      <td>214.50</td>\n      <td>3.3302</td>\n      <td>212.90</td>\n      <td>315155.99</td>\n    </tr>\n    <tr>\n      <th>20200818</th>\n      <td>4208955.657</td>\n      <td>0.58</td>\n      <td>220.57</td>\n      <td>223.00</td>\n      <td>218.12</td>\n      <td>219.99</td>\n      <td>0.2636</td>\n      <td>219.99</td>\n      <td>190382.49</td>\n    </tr>\n    <tr>\n      <th>20200819</th>\n      <td>5300628.768</td>\n      <td>1.63</td>\n      <td>222.20</td>\n      <td>225.96</td>\n      <td>217.27</td>\n      <td>220.47</td>\n      <td>0.7390</td>\n      <td>220.57</td>\n      <td>238472.68</td>\n    </tr>\n    <tr>\n      <th>20200820</th>\n      <td>4022580.052</td>\n      <td>-5.76</td>\n      <td>216.44</td>\n      <td>220.92</td>\n      <td>216.00</td>\n      <td>220.00</td>\n      <td>-2.5923</td>\n      <td>222.20</td>\n      <td>184906.63</td>\n    </tr>\n    <tr>\n      <th>20200821</th>\n      <td>3438178.399</td>\n      <td>1.96</td>\n      <td>218.40</td>\n      <td>220.98</td>\n      <td>216.44</td>\n      <td>220.00</td>\n      <td>0.9056</td>\n      <td>216.44</td>\n      <td>157318.61</td>\n    </tr>\n  </tbody>\n</table>\n<p>155 rows × 9 columns</p>\n</div>"
     },
     "execution_count": 89,
     "metadata": {},
     "output_type": "execute_result"
    }
   ],
   "source": [
    "df_pivot = df_melt.pivot(index=['ts_code','trade_date'], columns = 'p_type', values='price')\n",
    "df_pivot"
   ],
   "metadata": {
    "collapsed": false,
    "pycharm": {
     "name": "#%%\n"
    }
   }
  },
  {
   "cell_type": "code",
   "execution_count": 90,
   "outputs": [
    {
     "data": {
      "text/plain": "p_type    ts_code  trade_date       amount  change   close    high     low    open  pct_chg  pre_close        vol\n0       000858.SZ    20200102  4038536.854   -0.93  132.08  133.50  129.59  132.00  -0.6992     133.01  306674.39\n1       000858.SZ    20200103  2672531.470   -1.53  130.55  132.07  129.61  131.60  -1.1584     132.08  204692.48\n2       000858.SZ    20200106  3353682.073   -1.35  129.20  130.25  128.52  130.00  -1.0341     130.55  259369.79\n3       000858.SZ    20200107  2901574.233    0.17  129.37  131.07  129.00  129.50   0.1316     129.20  223277.93\n4       000858.SZ    20200108  2083242.871   -0.48  128.89  129.76  128.05  128.99  -0.3710     129.37  161802.18\n..            ...         ...          ...     ...     ...     ...     ...     ...      ...        ...        ...\n150     000858.SZ    20200817  6913069.145    7.09  219.99  222.00  214.50  214.50   3.3302     212.90  315155.99\n151     000858.SZ    20200818  4208955.657    0.58  220.57  223.00  218.12  219.99   0.2636     219.99  190382.49\n152     000858.SZ    20200819  5300628.768    1.63  222.20  225.96  217.27  220.47   0.7390     220.57  238472.68\n153     000858.SZ    20200820  4022580.052   -5.76  216.44  220.92  216.00  220.00  -2.5923     222.20  184906.63\n154     000858.SZ    20200821  3438178.399    1.96  218.40  220.98  216.44  220.00   0.9056     216.44  157318.61\n\n[155 rows x 11 columns]",
      "text/html": "<div>\n<style scoped>\n    .dataframe tbody tr th:only-of-type {\n        vertical-align: middle;\n    }\n\n    .dataframe tbody tr th {\n        vertical-align: top;\n    }\n\n    .dataframe thead th {\n        text-align: right;\n    }\n</style>\n<table border=\"1\" class=\"dataframe\">\n  <thead>\n    <tr style=\"text-align: right;\">\n      <th>p_type</th>\n      <th>ts_code</th>\n      <th>trade_date</th>\n      <th>amount</th>\n      <th>change</th>\n      <th>close</th>\n      <th>high</th>\n      <th>low</th>\n      <th>open</th>\n      <th>pct_chg</th>\n      <th>pre_close</th>\n      <th>vol</th>\n    </tr>\n  </thead>\n  <tbody>\n    <tr>\n      <th>0</th>\n      <td>000858.SZ</td>\n      <td>20200102</td>\n      <td>4038536.854</td>\n      <td>-0.93</td>\n      <td>132.08</td>\n      <td>133.50</td>\n      <td>129.59</td>\n      <td>132.00</td>\n      <td>-0.6992</td>\n      <td>133.01</td>\n      <td>306674.39</td>\n    </tr>\n    <tr>\n      <th>1</th>\n      <td>000858.SZ</td>\n      <td>20200103</td>\n      <td>2672531.470</td>\n      <td>-1.53</td>\n      <td>130.55</td>\n      <td>132.07</td>\n      <td>129.61</td>\n      <td>131.60</td>\n      <td>-1.1584</td>\n      <td>132.08</td>\n      <td>204692.48</td>\n    </tr>\n    <tr>\n      <th>2</th>\n      <td>000858.SZ</td>\n      <td>20200106</td>\n      <td>3353682.073</td>\n      <td>-1.35</td>\n      <td>129.20</td>\n      <td>130.25</td>\n      <td>128.52</td>\n      <td>130.00</td>\n      <td>-1.0341</td>\n      <td>130.55</td>\n      <td>259369.79</td>\n    </tr>\n    <tr>\n      <th>3</th>\n      <td>000858.SZ</td>\n      <td>20200107</td>\n      <td>2901574.233</td>\n      <td>0.17</td>\n      <td>129.37</td>\n      <td>131.07</td>\n      <td>129.00</td>\n      <td>129.50</td>\n      <td>0.1316</td>\n      <td>129.20</td>\n      <td>223277.93</td>\n    </tr>\n    <tr>\n      <th>4</th>\n      <td>000858.SZ</td>\n      <td>20200108</td>\n      <td>2083242.871</td>\n      <td>-0.48</td>\n      <td>128.89</td>\n      <td>129.76</td>\n      <td>128.05</td>\n      <td>128.99</td>\n      <td>-0.3710</td>\n      <td>129.37</td>\n      <td>161802.18</td>\n    </tr>\n    <tr>\n      <th>...</th>\n      <td>...</td>\n      <td>...</td>\n      <td>...</td>\n      <td>...</td>\n      <td>...</td>\n      <td>...</td>\n      <td>...</td>\n      <td>...</td>\n      <td>...</td>\n      <td>...</td>\n      <td>...</td>\n    </tr>\n    <tr>\n      <th>150</th>\n      <td>000858.SZ</td>\n      <td>20200817</td>\n      <td>6913069.145</td>\n      <td>7.09</td>\n      <td>219.99</td>\n      <td>222.00</td>\n      <td>214.50</td>\n      <td>214.50</td>\n      <td>3.3302</td>\n      <td>212.90</td>\n      <td>315155.99</td>\n    </tr>\n    <tr>\n      <th>151</th>\n      <td>000858.SZ</td>\n      <td>20200818</td>\n      <td>4208955.657</td>\n      <td>0.58</td>\n      <td>220.57</td>\n      <td>223.00</td>\n      <td>218.12</td>\n      <td>219.99</td>\n      <td>0.2636</td>\n      <td>219.99</td>\n      <td>190382.49</td>\n    </tr>\n    <tr>\n      <th>152</th>\n      <td>000858.SZ</td>\n      <td>20200819</td>\n      <td>5300628.768</td>\n      <td>1.63</td>\n      <td>222.20</td>\n      <td>225.96</td>\n      <td>217.27</td>\n      <td>220.47</td>\n      <td>0.7390</td>\n      <td>220.57</td>\n      <td>238472.68</td>\n    </tr>\n    <tr>\n      <th>153</th>\n      <td>000858.SZ</td>\n      <td>20200820</td>\n      <td>4022580.052</td>\n      <td>-5.76</td>\n      <td>216.44</td>\n      <td>220.92</td>\n      <td>216.00</td>\n      <td>220.00</td>\n      <td>-2.5923</td>\n      <td>222.20</td>\n      <td>184906.63</td>\n    </tr>\n    <tr>\n      <th>154</th>\n      <td>000858.SZ</td>\n      <td>20200821</td>\n      <td>3438178.399</td>\n      <td>1.96</td>\n      <td>218.40</td>\n      <td>220.98</td>\n      <td>216.44</td>\n      <td>220.00</td>\n      <td>0.9056</td>\n      <td>216.44</td>\n      <td>157318.61</td>\n    </tr>\n  </tbody>\n</table>\n<p>155 rows × 11 columns</p>\n</div>"
     },
     "execution_count": 90,
     "metadata": {},
     "output_type": "execute_result"
    }
   ],
   "source": [
    "df_pivot.reset_index(drop=False)"
   ],
   "metadata": {
    "collapsed": false,
    "pycharm": {
     "name": "#%%\n"
    }
   }
  },
  {
   "cell_type": "markdown",
   "source": [
    "##### 添加新列的方法"
   ],
   "metadata": {
    "collapsed": false,
    "pycharm": {
     "name": "#%% md\n"
    }
   }
  },
  {
   "cell_type": "code",
   "execution_count": 107,
   "outputs": [
    {
     "data": {
      "text/plain": "       ts_code  trade_date    open    high     low   close  pre_close  change  pct_chg        vol       amount  gap_large  gap_small\n0    000858.SZ    20200821  220.00  220.98  216.44  218.40     216.44    1.96   0.9056  157318.61  3438178.399       4.54      -1.60\n1    000858.SZ    20200820  220.00  220.92  216.00  216.44     222.20   -5.76  -2.5923  184906.63  4022580.052       4.92      -3.56\n2    000858.SZ    20200819  220.47  225.96  217.27  222.20     220.57    1.63   0.7390  238472.68  5300628.768       8.69       1.73\n3    000858.SZ    20200818  219.99  223.00  218.12  220.57     219.99    0.58   0.2636  190382.49  4208955.657       4.88       0.58\n4    000858.SZ    20200817  214.50  222.00  214.50  219.99     212.90    7.09   3.3302  315155.99  6913069.145       7.50       5.49\n..         ...         ...     ...     ...     ...     ...        ...     ...      ...        ...          ...        ...        ...\n150  000858.SZ    20200108  128.99  129.76  128.05  128.89     129.37   -0.48  -0.3710  161802.18  2083242.871       1.71      -0.10\n151  000858.SZ    20200107  129.50  131.07  129.00  129.37     129.20    0.17   0.1316  223277.93  2901574.233       2.07      -0.13\n152  000858.SZ    20200106  130.00  130.25  128.52  129.20     130.55   -1.35  -1.0341  259369.79  3353682.073       1.73      -0.80\n153  000858.SZ    20200103  131.60  132.07  129.61  130.55     132.08   -1.53  -1.1584  204692.48  2672531.470       2.46      -1.05\n154  000858.SZ    20200102  132.00  133.50  129.59  132.08     133.01   -0.93  -0.6992  306674.39  4038536.854       3.91       0.08\n\n[155 rows x 13 columns]",
      "text/html": "<div>\n<style scoped>\n    .dataframe tbody tr th:only-of-type {\n        vertical-align: middle;\n    }\n\n    .dataframe tbody tr th {\n        vertical-align: top;\n    }\n\n    .dataframe thead th {\n        text-align: right;\n    }\n</style>\n<table border=\"1\" class=\"dataframe\">\n  <thead>\n    <tr style=\"text-align: right;\">\n      <th></th>\n      <th>ts_code</th>\n      <th>trade_date</th>\n      <th>open</th>\n      <th>high</th>\n      <th>low</th>\n      <th>close</th>\n      <th>pre_close</th>\n      <th>change</th>\n      <th>pct_chg</th>\n      <th>vol</th>\n      <th>amount</th>\n      <th>gap_large</th>\n      <th>gap_small</th>\n    </tr>\n  </thead>\n  <tbody>\n    <tr>\n      <th>0</th>\n      <td>000858.SZ</td>\n      <td>20200821</td>\n      <td>220.00</td>\n      <td>220.98</td>\n      <td>216.44</td>\n      <td>218.40</td>\n      <td>216.44</td>\n      <td>1.96</td>\n      <td>0.9056</td>\n      <td>157318.61</td>\n      <td>3438178.399</td>\n      <td>4.54</td>\n      <td>-1.60</td>\n    </tr>\n    <tr>\n      <th>1</th>\n      <td>000858.SZ</td>\n      <td>20200820</td>\n      <td>220.00</td>\n      <td>220.92</td>\n      <td>216.00</td>\n      <td>216.44</td>\n      <td>222.20</td>\n      <td>-5.76</td>\n      <td>-2.5923</td>\n      <td>184906.63</td>\n      <td>4022580.052</td>\n      <td>4.92</td>\n      <td>-3.56</td>\n    </tr>\n    <tr>\n      <th>2</th>\n      <td>000858.SZ</td>\n      <td>20200819</td>\n      <td>220.47</td>\n      <td>225.96</td>\n      <td>217.27</td>\n      <td>222.20</td>\n      <td>220.57</td>\n      <td>1.63</td>\n      <td>0.7390</td>\n      <td>238472.68</td>\n      <td>5300628.768</td>\n      <td>8.69</td>\n      <td>1.73</td>\n    </tr>\n    <tr>\n      <th>3</th>\n      <td>000858.SZ</td>\n      <td>20200818</td>\n      <td>219.99</td>\n      <td>223.00</td>\n      <td>218.12</td>\n      <td>220.57</td>\n      <td>219.99</td>\n      <td>0.58</td>\n      <td>0.2636</td>\n      <td>190382.49</td>\n      <td>4208955.657</td>\n      <td>4.88</td>\n      <td>0.58</td>\n    </tr>\n    <tr>\n      <th>4</th>\n      <td>000858.SZ</td>\n      <td>20200817</td>\n      <td>214.50</td>\n      <td>222.00</td>\n      <td>214.50</td>\n      <td>219.99</td>\n      <td>212.90</td>\n      <td>7.09</td>\n      <td>3.3302</td>\n      <td>315155.99</td>\n      <td>6913069.145</td>\n      <td>7.50</td>\n      <td>5.49</td>\n    </tr>\n    <tr>\n      <th>...</th>\n      <td>...</td>\n      <td>...</td>\n      <td>...</td>\n      <td>...</td>\n      <td>...</td>\n      <td>...</td>\n      <td>...</td>\n      <td>...</td>\n      <td>...</td>\n      <td>...</td>\n      <td>...</td>\n      <td>...</td>\n      <td>...</td>\n    </tr>\n    <tr>\n      <th>150</th>\n      <td>000858.SZ</td>\n      <td>20200108</td>\n      <td>128.99</td>\n      <td>129.76</td>\n      <td>128.05</td>\n      <td>128.89</td>\n      <td>129.37</td>\n      <td>-0.48</td>\n      <td>-0.3710</td>\n      <td>161802.18</td>\n      <td>2083242.871</td>\n      <td>1.71</td>\n      <td>-0.10</td>\n    </tr>\n    <tr>\n      <th>151</th>\n      <td>000858.SZ</td>\n      <td>20200107</td>\n      <td>129.50</td>\n      <td>131.07</td>\n      <td>129.00</td>\n      <td>129.37</td>\n      <td>129.20</td>\n      <td>0.17</td>\n      <td>0.1316</td>\n      <td>223277.93</td>\n      <td>2901574.233</td>\n      <td>2.07</td>\n      <td>-0.13</td>\n    </tr>\n    <tr>\n      <th>152</th>\n      <td>000858.SZ</td>\n      <td>20200106</td>\n      <td>130.00</td>\n      <td>130.25</td>\n      <td>128.52</td>\n      <td>129.20</td>\n      <td>130.55</td>\n      <td>-1.35</td>\n      <td>-1.0341</td>\n      <td>259369.79</td>\n      <td>3353682.073</td>\n      <td>1.73</td>\n      <td>-0.80</td>\n    </tr>\n    <tr>\n      <th>153</th>\n      <td>000858.SZ</td>\n      <td>20200103</td>\n      <td>131.60</td>\n      <td>132.07</td>\n      <td>129.61</td>\n      <td>130.55</td>\n      <td>132.08</td>\n      <td>-1.53</td>\n      <td>-1.1584</td>\n      <td>204692.48</td>\n      <td>2672531.470</td>\n      <td>2.46</td>\n      <td>-1.05</td>\n    </tr>\n    <tr>\n      <th>154</th>\n      <td>000858.SZ</td>\n      <td>20200102</td>\n      <td>132.00</td>\n      <td>133.50</td>\n      <td>129.59</td>\n      <td>132.08</td>\n      <td>133.01</td>\n      <td>-0.93</td>\n      <td>-0.6992</td>\n      <td>306674.39</td>\n      <td>4038536.854</td>\n      <td>3.91</td>\n      <td>0.08</td>\n    </tr>\n  </tbody>\n</table>\n<p>155 rows × 13 columns</p>\n</div>"
     },
     "execution_count": 107,
     "metadata": {},
     "output_type": "execute_result"
    }
   ],
   "source": [
    "df_source.assign(gap_large = lambda x: x['high'] - x['low'],\n",
    "                 gap_small = lambda x: x['close'] - x['open'])"
   ],
   "metadata": {
    "collapsed": false,
    "pycharm": {
     "name": "#%%\n"
    }
   }
  },
  {
   "cell_type": "code",
   "execution_count": 130,
   "outputs": [
    {
     "data": {
      "text/plain": "       ts_code  trade_date    open    high     low   close  pre_close  change  pct_chg        vol       amount gap_flag\n0    000858.SZ    20200821  220.00  220.98  216.44  218.40     216.44    1.96   0.9056  157318.61  3438178.399        N\n1    000858.SZ    20200820  220.00  220.92  216.00  216.44     222.20   -5.76  -2.5923  184906.63  4022580.052        N\n2    000858.SZ    20200819  220.47  225.96  217.27  222.20     220.57    1.63   0.7390  238472.68  5300628.768        N\n3    000858.SZ    20200818  219.99  223.00  218.12  220.57     219.99    0.58   0.2636  190382.49  4208955.657        N\n4    000858.SZ    20200817  214.50  222.00  214.50  219.99     212.90    7.09   3.3302  315155.99  6913069.145        N\n..         ...         ...     ...     ...     ...     ...        ...     ...      ...        ...          ...      ...\n150  000858.SZ    20200108  128.99  129.76  128.05  128.89     129.37   -0.48  -0.3710  161802.18  2083242.871        N\n151  000858.SZ    20200107  129.50  131.07  129.00  129.37     129.20    0.17   0.1316  223277.93  2901574.233        N\n152  000858.SZ    20200106  130.00  130.25  128.52  129.20     130.55   -1.35  -1.0341  259369.79  3353682.073        N\n153  000858.SZ    20200103  131.60  132.07  129.61  130.55     132.08   -1.53  -1.1584  204692.48  2672531.470        N\n154  000858.SZ    20200102  132.00  133.50  129.59  132.08     133.01   -0.93  -0.6992  306674.39  4038536.854        N\n\n[155 rows x 12 columns]",
      "text/html": "<div>\n<style scoped>\n    .dataframe tbody tr th:only-of-type {\n        vertical-align: middle;\n    }\n\n    .dataframe tbody tr th {\n        vertical-align: top;\n    }\n\n    .dataframe thead th {\n        text-align: right;\n    }\n</style>\n<table border=\"1\" class=\"dataframe\">\n  <thead>\n    <tr style=\"text-align: right;\">\n      <th></th>\n      <th>ts_code</th>\n      <th>trade_date</th>\n      <th>open</th>\n      <th>high</th>\n      <th>low</th>\n      <th>close</th>\n      <th>pre_close</th>\n      <th>change</th>\n      <th>pct_chg</th>\n      <th>vol</th>\n      <th>amount</th>\n      <th>gap_flag</th>\n    </tr>\n  </thead>\n  <tbody>\n    <tr>\n      <th>0</th>\n      <td>000858.SZ</td>\n      <td>20200821</td>\n      <td>220.00</td>\n      <td>220.98</td>\n      <td>216.44</td>\n      <td>218.40</td>\n      <td>216.44</td>\n      <td>1.96</td>\n      <td>0.9056</td>\n      <td>157318.61</td>\n      <td>3438178.399</td>\n      <td>N</td>\n    </tr>\n    <tr>\n      <th>1</th>\n      <td>000858.SZ</td>\n      <td>20200820</td>\n      <td>220.00</td>\n      <td>220.92</td>\n      <td>216.00</td>\n      <td>216.44</td>\n      <td>222.20</td>\n      <td>-5.76</td>\n      <td>-2.5923</td>\n      <td>184906.63</td>\n      <td>4022580.052</td>\n      <td>N</td>\n    </tr>\n    <tr>\n      <th>2</th>\n      <td>000858.SZ</td>\n      <td>20200819</td>\n      <td>220.47</td>\n      <td>225.96</td>\n      <td>217.27</td>\n      <td>222.20</td>\n      <td>220.57</td>\n      <td>1.63</td>\n      <td>0.7390</td>\n      <td>238472.68</td>\n      <td>5300628.768</td>\n      <td>N</td>\n    </tr>\n    <tr>\n      <th>3</th>\n      <td>000858.SZ</td>\n      <td>20200818</td>\n      <td>219.99</td>\n      <td>223.00</td>\n      <td>218.12</td>\n      <td>220.57</td>\n      <td>219.99</td>\n      <td>0.58</td>\n      <td>0.2636</td>\n      <td>190382.49</td>\n      <td>4208955.657</td>\n      <td>N</td>\n    </tr>\n    <tr>\n      <th>4</th>\n      <td>000858.SZ</td>\n      <td>20200817</td>\n      <td>214.50</td>\n      <td>222.00</td>\n      <td>214.50</td>\n      <td>219.99</td>\n      <td>212.90</td>\n      <td>7.09</td>\n      <td>3.3302</td>\n      <td>315155.99</td>\n      <td>6913069.145</td>\n      <td>N</td>\n    </tr>\n    <tr>\n      <th>...</th>\n      <td>...</td>\n      <td>...</td>\n      <td>...</td>\n      <td>...</td>\n      <td>...</td>\n      <td>...</td>\n      <td>...</td>\n      <td>...</td>\n      <td>...</td>\n      <td>...</td>\n      <td>...</td>\n      <td>...</td>\n    </tr>\n    <tr>\n      <th>150</th>\n      <td>000858.SZ</td>\n      <td>20200108</td>\n      <td>128.99</td>\n      <td>129.76</td>\n      <td>128.05</td>\n      <td>128.89</td>\n      <td>129.37</td>\n      <td>-0.48</td>\n      <td>-0.3710</td>\n      <td>161802.18</td>\n      <td>2083242.871</td>\n      <td>N</td>\n    </tr>\n    <tr>\n      <th>151</th>\n      <td>000858.SZ</td>\n      <td>20200107</td>\n      <td>129.50</td>\n      <td>131.07</td>\n      <td>129.00</td>\n      <td>129.37</td>\n      <td>129.20</td>\n      <td>0.17</td>\n      <td>0.1316</td>\n      <td>223277.93</td>\n      <td>2901574.233</td>\n      <td>N</td>\n    </tr>\n    <tr>\n      <th>152</th>\n      <td>000858.SZ</td>\n      <td>20200106</td>\n      <td>130.00</td>\n      <td>130.25</td>\n      <td>128.52</td>\n      <td>129.20</td>\n      <td>130.55</td>\n      <td>-1.35</td>\n      <td>-1.0341</td>\n      <td>259369.79</td>\n      <td>3353682.073</td>\n      <td>N</td>\n    </tr>\n    <tr>\n      <th>153</th>\n      <td>000858.SZ</td>\n      <td>20200103</td>\n      <td>131.60</td>\n      <td>132.07</td>\n      <td>129.61</td>\n      <td>130.55</td>\n      <td>132.08</td>\n      <td>-1.53</td>\n      <td>-1.1584</td>\n      <td>204692.48</td>\n      <td>2672531.470</td>\n      <td>N</td>\n    </tr>\n    <tr>\n      <th>154</th>\n      <td>000858.SZ</td>\n      <td>20200102</td>\n      <td>132.00</td>\n      <td>133.50</td>\n      <td>129.59</td>\n      <td>132.08</td>\n      <td>133.01</td>\n      <td>-0.93</td>\n      <td>-0.6992</td>\n      <td>306674.39</td>\n      <td>4038536.854</td>\n      <td>N</td>\n    </tr>\n  </tbody>\n</table>\n<p>155 rows × 12 columns</p>\n</div>"
     },
     "execution_count": 130,
     "metadata": {},
     "output_type": "execute_result"
    }
   ],
   "source": [
    "# df_source.describe()\n",
    "df_source"
   ],
   "metadata": {
    "collapsed": false,
    "pycharm": {
     "name": "#%%\n"
    }
   }
  },
  {
   "cell_type": "code",
   "execution_count": 133,
   "outputs": [
    {
     "data": {
      "text/plain": "       ts_code  trade_date    open    high     low   close  pre_close  change  pct_chg        vol       amount gap_flag\n0    000858.SZ    20200821  220.00  220.98  216.44  218.40     216.44    1.96   0.9056  157318.61  3438178.399       No\n1    000858.SZ    20200820  220.00  220.92  216.00  216.44     222.20   -5.76  -2.5923  184906.63  4022580.052       No\n2    000858.SZ    20200819  220.47  225.96  217.27  222.20     220.57    1.63   0.7390  238472.68  5300628.768      Yes\n3    000858.SZ    20200818  219.99  223.00  218.12  220.57     219.99    0.58   0.2636  190382.49  4208955.657      Yes\n4    000858.SZ    20200817  214.50  222.00  214.50  219.99     212.90    7.09   3.3302  315155.99  6913069.145      Yes\n..         ...         ...     ...     ...     ...     ...        ...     ...      ...        ...          ...      ...\n150  000858.SZ    20200108  128.99  129.76  128.05  128.89     129.37   -0.48  -0.3710  161802.18  2083242.871       No\n151  000858.SZ    20200107  129.50  131.07  129.00  129.37     129.20    0.17   0.1316  223277.93  2901574.233       No\n152  000858.SZ    20200106  130.00  130.25  128.52  129.20     130.55   -1.35  -1.0341  259369.79  3353682.073       No\n153  000858.SZ    20200103  131.60  132.07  129.61  130.55     132.08   -1.53  -1.1584  204692.48  2672531.470       No\n154  000858.SZ    20200102  132.00  133.50  129.59  132.08     133.01   -0.93  -0.6992  306674.39  4038536.854      Yes\n\n[155 rows x 12 columns]",
      "text/html": "<div>\n<style scoped>\n    .dataframe tbody tr th:only-of-type {\n        vertical-align: middle;\n    }\n\n    .dataframe tbody tr th {\n        vertical-align: top;\n    }\n\n    .dataframe thead th {\n        text-align: right;\n    }\n</style>\n<table border=\"1\" class=\"dataframe\">\n  <thead>\n    <tr style=\"text-align: right;\">\n      <th></th>\n      <th>ts_code</th>\n      <th>trade_date</th>\n      <th>open</th>\n      <th>high</th>\n      <th>low</th>\n      <th>close</th>\n      <th>pre_close</th>\n      <th>change</th>\n      <th>pct_chg</th>\n      <th>vol</th>\n      <th>amount</th>\n      <th>gap_flag</th>\n    </tr>\n  </thead>\n  <tbody>\n    <tr>\n      <th>0</th>\n      <td>000858.SZ</td>\n      <td>20200821</td>\n      <td>220.00</td>\n      <td>220.98</td>\n      <td>216.44</td>\n      <td>218.40</td>\n      <td>216.44</td>\n      <td>1.96</td>\n      <td>0.9056</td>\n      <td>157318.61</td>\n      <td>3438178.399</td>\n      <td>No</td>\n    </tr>\n    <tr>\n      <th>1</th>\n      <td>000858.SZ</td>\n      <td>20200820</td>\n      <td>220.00</td>\n      <td>220.92</td>\n      <td>216.00</td>\n      <td>216.44</td>\n      <td>222.20</td>\n      <td>-5.76</td>\n      <td>-2.5923</td>\n      <td>184906.63</td>\n      <td>4022580.052</td>\n      <td>No</td>\n    </tr>\n    <tr>\n      <th>2</th>\n      <td>000858.SZ</td>\n      <td>20200819</td>\n      <td>220.47</td>\n      <td>225.96</td>\n      <td>217.27</td>\n      <td>222.20</td>\n      <td>220.57</td>\n      <td>1.63</td>\n      <td>0.7390</td>\n      <td>238472.68</td>\n      <td>5300628.768</td>\n      <td>Yes</td>\n    </tr>\n    <tr>\n      <th>3</th>\n      <td>000858.SZ</td>\n      <td>20200818</td>\n      <td>219.99</td>\n      <td>223.00</td>\n      <td>218.12</td>\n      <td>220.57</td>\n      <td>219.99</td>\n      <td>0.58</td>\n      <td>0.2636</td>\n      <td>190382.49</td>\n      <td>4208955.657</td>\n      <td>Yes</td>\n    </tr>\n    <tr>\n      <th>4</th>\n      <td>000858.SZ</td>\n      <td>20200817</td>\n      <td>214.50</td>\n      <td>222.00</td>\n      <td>214.50</td>\n      <td>219.99</td>\n      <td>212.90</td>\n      <td>7.09</td>\n      <td>3.3302</td>\n      <td>315155.99</td>\n      <td>6913069.145</td>\n      <td>Yes</td>\n    </tr>\n    <tr>\n      <th>...</th>\n      <td>...</td>\n      <td>...</td>\n      <td>...</td>\n      <td>...</td>\n      <td>...</td>\n      <td>...</td>\n      <td>...</td>\n      <td>...</td>\n      <td>...</td>\n      <td>...</td>\n      <td>...</td>\n      <td>...</td>\n    </tr>\n    <tr>\n      <th>150</th>\n      <td>000858.SZ</td>\n      <td>20200108</td>\n      <td>128.99</td>\n      <td>129.76</td>\n      <td>128.05</td>\n      <td>128.89</td>\n      <td>129.37</td>\n      <td>-0.48</td>\n      <td>-0.3710</td>\n      <td>161802.18</td>\n      <td>2083242.871</td>\n      <td>No</td>\n    </tr>\n    <tr>\n      <th>151</th>\n      <td>000858.SZ</td>\n      <td>20200107</td>\n      <td>129.50</td>\n      <td>131.07</td>\n      <td>129.00</td>\n      <td>129.37</td>\n      <td>129.20</td>\n      <td>0.17</td>\n      <td>0.1316</td>\n      <td>223277.93</td>\n      <td>2901574.233</td>\n      <td>No</td>\n    </tr>\n    <tr>\n      <th>152</th>\n      <td>000858.SZ</td>\n      <td>20200106</td>\n      <td>130.00</td>\n      <td>130.25</td>\n      <td>128.52</td>\n      <td>129.20</td>\n      <td>130.55</td>\n      <td>-1.35</td>\n      <td>-1.0341</td>\n      <td>259369.79</td>\n      <td>3353682.073</td>\n      <td>No</td>\n    </tr>\n    <tr>\n      <th>153</th>\n      <td>000858.SZ</td>\n      <td>20200103</td>\n      <td>131.60</td>\n      <td>132.07</td>\n      <td>129.61</td>\n      <td>130.55</td>\n      <td>132.08</td>\n      <td>-1.53</td>\n      <td>-1.1584</td>\n      <td>204692.48</td>\n      <td>2672531.470</td>\n      <td>No</td>\n    </tr>\n    <tr>\n      <th>154</th>\n      <td>000858.SZ</td>\n      <td>20200102</td>\n      <td>132.00</td>\n      <td>133.50</td>\n      <td>129.59</td>\n      <td>132.08</td>\n      <td>133.01</td>\n      <td>-0.93</td>\n      <td>-0.6992</td>\n      <td>306674.39</td>\n      <td>4038536.854</td>\n      <td>Yes</td>\n    </tr>\n  </tbody>\n</table>\n<p>155 rows × 12 columns</p>\n</div>"
     },
     "execution_count": 133,
     "metadata": {},
     "output_type": "execute_result"
    }
   ],
   "source": [
    "df_source['gap_flag'] = df_source[['open','close']].apply(lambda x: 'Yes' if x.open<=x.close else 'No', axis=1)\n",
    "df_source"
   ],
   "metadata": {
    "collapsed": false,
    "pycharm": {
     "name": "#%%\n"
    }
   }
  }
 ],
 "metadata": {
  "kernelspec": {
   "name": "pycharm-cef857b",
   "language": "python",
   "display_name": "PyCharm (BJLJ)"
  },
  "language_info": {
   "codemirror_mode": {
    "name": "ipython",
    "version": 2
   },
   "file_extension": ".py",
   "mimetype": "text/x-python",
   "name": "python",
   "nbconvert_exporter": "python",
   "pygments_lexer": "ipython2",
   "version": "2.7.6"
  }
 },
 "nbformat": 4,
 "nbformat_minor": 0
}